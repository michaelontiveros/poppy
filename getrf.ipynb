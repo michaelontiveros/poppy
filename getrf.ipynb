{
 "cells": [
  {
   "cell_type": "code",
   "execution_count": 1,
   "metadata": {},
   "outputs": [],
   "source": [
    "import poppy\n",
    "import jax\n",
    "import jax.numpy as jnp\n",
    "import functools\n",
    "import galois\n",
    "import numpy as np"
   ]
  },
  {
   "cell_type": "code",
   "execution_count": 85,
   "metadata": {},
   "outputs": [],
   "source": [
    "@jax.jit\n",
    "def pgetrf2(aperm, inv): # sequential lu decomposition.\n",
    "\n",
    "  p = 1+inv[-1] # p is prime.\n",
    "  I = jnp.arange(aperm.shape[0])\n",
    "  J = jnp.arange(aperm.shape[1]-1)\n",
    "  R = jnp.arange(min(len(I),len(J)))\n",
    "  \n",
    "  def f(ap, i):\n",
    "\n",
    "    j = jnp.argmax( jnp.where(I >= i, ap[:,i], -1) ) # search column i for j.\n",
    "    ap = ap.at[[i,j],:].set( ap[[j,i],:] ) # swap rows i and j.\n",
    "    ap = ap.at[:,i].set( jnp.where( I > i, (ap[:,i] * inv[ ap[i,i] ]) % p, ap[:,i] ) )  # scale column i.\n",
    "    ap = ap.at[:,:-1].set( (ap[:,:-1] - jnp.where( (I[:,None] > i) & (J[None,:] > i), jnp.outer( ap[:,i], ap[i,:-1] ), 0 )) % p ) # geru.\n",
    "        \n",
    "    return ap, i\n",
    "\n",
    "  return jax.lax.scan(f, aperm, R, unroll = False)[0]"
   ]
  },
  {
   "cell_type": "code",
   "execution_count": 87,
   "metadata": {},
   "outputs": [],
   "source": [
    "DTYPE = poppy.DTYPE\n",
    "@jax.jit\n",
    "def ptrsm(a, b, p): # mod p triangular solve.\n",
    "  \n",
    "  R = jnp.arange(len(a), dtype = DTYPE)\n",
    "\n",
    "  def ptrsm_vmap(bb): # bb is the matrix b.\n",
    "    def ptrsm_scan(bc): # bc is a column of bb.\n",
    "      def f(x,j):\n",
    "        x = x.at[j].set( (bc[j] - jnp.dot( a[j], x )) % p )\n",
    "        return x, x[j]  \n",
    "      return jax.lax.scan( f, jnp.where( R == 0, bc[0], 0 ), R[1:] )[0] # scan the rows of a.\n",
    "    return jax.vmap(ptrsm_scan)(bb.T).T  # vmap the columns of b.\n",
    "\n",
    "  return ptrsm_vmap(b)"
   ]
  },
  {
   "cell_type": "code",
   "execution_count": 119,
   "metadata": {},
   "outputs": [],
   "source": [
    "@functools.partial(jax.jit, static_argnums = 2)\n",
    "def pgetrf(a, inv, b): # blocked lu decompposition.\n",
    "\n",
    "  p = 1+inv[-1]\n",
    "  m = min(a.shape)\n",
    "  perm = jnp.arange(len(a))\n",
    "  \n",
    "  for i in range(0, m, b):\n",
    "    bb = min(m-i, b)\n",
    "    ap = pgetrf2(jnp.hstack([ a[i:, i:i+bb], jnp.arange(i,len(a)).reshape((-1,1)) ]), inv)\n",
    "    perm = perm.at[i:].set( perm[ap[:,-1]] )\n",
    "    a = a.at[i:,:].set( a[ap[:,-1], :] ) # swap rows.\n",
    "    a = a.at[i:, i:i+bb].set( ap[:,:-1] )  # update block C.\n",
    "    a = a.at[i:i+bb, i+bb:].set(ptrsm( a[i:i+bb, i:i+bb], a[i:i+bb, i+bb:], p )) # update block B.\n",
    "    a = a.at[i+bb:, i+bb:].set( (a[i+bb:, i+bb:] - jax.lax.dot( a[i+bb: , i:i+bb], a[i:i+bb, i+bb:] )) % p) # update block D.\n",
    "\n",
    "  l = jnp.fill_diagonal(jnp.tril(a), 1, inplace = False)\n",
    "  u = jnp.tril(a.T).T\n",
    "  d = jnp.diagonal(u)\n",
    "  iperm = jnp.arange(len(perm))\n",
    "  iperm = iperm.at[perm].set(iperm)\n",
    "  \n",
    "  return l, u, d, iperm"
   ]
  },
  {
   "cell_type": "code",
   "execution_count": 128,
   "metadata": {},
   "outputs": [],
   "source": [
    "@functools.partial(jax.jit, static_argnums = 2)\n",
    "def inv( a, INV, b):\n",
    "  \n",
    "  p = 1+INV[-1] # 1/(p-1) = p-1\n",
    "  I = jnp.eye(len(a), dtype = DTYPE)\n",
    "  l, u, d, iperm = pgetrf(a, INV, b)\n",
    "  D = INV[d]\n",
    "  L = ptrsm(l, I, p) # L = 1/l.\n",
    "  U = ptrsm((D*u%p).T, D*I, p).T # U = 1/u.\n",
    "  \n",
    "  return (U@L%p)[:,iperm]\n",
    "\n",
    "@jax.jit\n",
    "def det(d, p):\n",
    "  return jax.lax.associative_scan(lambda a,b: a*b%p, d)[-1]\n"
   ]
  },
  {
   "cell_type": "code",
   "execution_count": 129,
   "metadata": {},
   "outputs": [
    {
     "data": {
      "text/plain": [
       "(Array([[1, 0, 0, ..., 0, 0, 0],\n",
       "        [0, 1, 0, ..., 0, 0, 0],\n",
       "        [0, 0, 1, ..., 0, 0, 0],\n",
       "        ...,\n",
       "        [4, 0, 3, ..., 1, 0, 0],\n",
       "        [2, 2, 1, ..., 0, 1, 0],\n",
       "        [0, 3, 2, ..., 4, 3, 1]], dtype=int64),\n",
       " Array([[4, 2, 0, ..., 2, 4, 1],\n",
       "        [0, 4, 2, ..., 0, 3, 3],\n",
       "        [0, 0, 4, ..., 2, 4, 0],\n",
       "        ...,\n",
       "        [0, 0, 0, ..., 3, 1, 0],\n",
       "        [0, 0, 0, ..., 0, 4, 0],\n",
       "        [0, 0, 0, ..., 0, 0, 4]], dtype=int64),\n",
       " Array([4, 4, 4, 4, 4, 3, 4, 4, 4, 4, 4, 4, 4, 4, 4, 4, 4, 4, 4, 4, 4, 4,\n",
       "        4, 4, 4, 3, 3, 4, 2, 3, 3, 4, 4], dtype=int64),\n",
       " Array([ 8, 17,  2,  3, 13, 12,  9, 14,  7,  6,  5, 26,  0, 21,  4,  1, 24,\n",
       "        10, 15, 11, 20, 18, 16, 22, 27, 23, 25, 28, 31, 19, 29, 32, 30],      dtype=int64),\n",
       " Array(4, dtype=int64))"
      ]
     },
     "execution_count": 129,
     "metadata": {},
     "output_type": "execute_result"
    }
   ],
   "source": [
    "p = 5\n",
    "N = 33\n",
    "B = 2\n",
    "field = poppy.field(p,1)\n",
    "#GF = galois.Field(p)\n",
    "ap = poppy.random((N,N), field, poppy.SEED+2)\n",
    "#ag = GF( np.array( a.proj( ) ) )\n",
    "l, u, d, perm = pgetrf(ap.lift, field.INV, B)\n",
    "l,u,d,perm, det(d,p)\n"
   ]
  },
  {
   "cell_type": "code",
   "execution_count": 131,
   "metadata": {},
   "outputs": [
    {
     "data": {
      "text/plain": [
       "(Array([[1, 0, 0, ..., 0, 0, 0],\n",
       "        [0, 1, 0, ..., 0, 0, 0],\n",
       "        [0, 0, 1, ..., 0, 0, 0],\n",
       "        ...,\n",
       "        [0, 0, 0, ..., 1, 0, 0],\n",
       "        [0, 0, 0, ..., 0, 1, 0],\n",
       "        [0, 0, 0, ..., 0, 0, 1]], dtype=int64),\n",
       " Array(4, dtype=int64))"
      ]
     },
     "execution_count": 131,
     "metadata": {},
     "output_type": "execute_result"
    }
   ],
   "source": [
    "ap.lift@inv(ap.lift,field.INV,B)%p, det(d,p)"
   ]
  },
  {
   "cell_type": "code",
   "execution_count": 122,
   "metadata": {},
   "outputs": [
    {
     "data": {
      "text/plain": [
       "(Array([[4, 1, 2],\n",
       "        [4, 0, 0],\n",
       "        [2, 3, 2]], dtype=int64),\n",
       " Array([[4, 1, 2],\n",
       "        [4, 0, 0],\n",
       "        [2, 3, 2]], dtype=int64))"
      ]
     },
     "execution_count": 122,
     "metadata": {},
     "output_type": "execute_result"
    }
   ],
   "source": [
    "ap.lift, (l@u%p)[perm]"
   ]
  },
  {
   "cell_type": "code",
   "execution_count": 125,
   "metadata": {},
   "outputs": [
    {
     "name": "stdout",
     "output_type": "stream",
     "text": [
      "246 µs ± 2.3 µs per loop (mean ± std. dev. of 7 runs, 1,000 loops each)\n"
     ]
    }
   ],
   "source": [
    "p = 12421\n",
    "N = 34\n",
    "B = 16\n",
    "field = poppy.field(p,1)\n",
    "#GF = galois.Field(p)\n",
    "a = poppy.random((N,N), field, poppy.SEED+2)\n",
    "#ag = GF( np.array( a.proj( ) ) )\n",
    "#lup = pgetrf2( jnp.hstack( [ a.lift, jnp.arange( N ).reshape( ( -1, 1 )) ]), field.INV )\n",
    "#lu, perm = pgetrf(a.lift, field.INV, B)\n",
    "%timeit pgetrf( a.lift, field.INV, B )[0].block_until_ready()"
   ]
  },
  {
   "cell_type": "code",
   "execution_count": 48,
   "metadata": {},
   "outputs": [],
   "source": [
    "@functools.partial( jax.jit, static_argnums = 1 )\n",
    "def pgetrf2( aperm, p, INV ):\n",
    "\n",
    "  @functools.partial( jax.jit, static_argnums = 1 )\n",
    "  def f( ap, i ):\n",
    "\n",
    "    j = jnp.argmax( jnp.where( I >= i, ap[ : , i ], 0 ) )\n",
    "    ap = ap.at[ [ i, j ], ].set( ap[ [ j, i ], ] ) # swp.\n",
    "    ap = ap.at[ :, i ].set( jnp.where( I > i, ap[ : , i ] * INV[ ap[ i, i ] ], ap[ :, i ] ) % p ) # scal.\n",
    "    ap = ( ap - jnp.where( ( I[ :, None ] > i ) & ( J[ None, : ] > i ) & ( J[ None, : ] < J[ -1 ] ), \\\n",
    "           jnp.outer( ap[ :, i ], ap[ i, : ] ), \\\n",
    "            0 ) ) % p # geru.\n",
    "        \n",
    "    return ap, i\n",
    "\n",
    "  I = jnp.arange( aperm.shape[ 0 ] )\n",
    "  J = jnp.arange( aperm.shape[ 1 ] )\n",
    "  R = jnp.arange( min( aperm.shape[ 0 ], aperm.shape[ 1 ] - 1 ) )\n",
    "\n",
    "  #return jax.lax.fori_loop( 0, min( aperm.shape[ 0 ], aperm.shape[ 1 ] - 1 ), f, aperm )\n",
    "\n",
    "  return jax.lax.scan( f, aperm, R[ : -1 ], unroll = False )[ 0 ]\n",
    "\n",
    "@functools.partial( jax.jit, static_argnums = ( 1, 2 ) )\n",
    "def pgetrf( a, field, B ):\n",
    "\n",
    "  @jax.jit\n",
    "  def ptrsm( aa, b ): # mod p triangular solve.\n",
    "  \n",
    "    M = aa.shape[ 0 ]\n",
    "    N = b.shape[ 1 ]\n",
    "    I = jnp.eye( N, M, dtype = DTYPE )\n",
    "    C = jnp.arange( N )\n",
    "    R = jnp.arange( 1, M )\n",
    "\n",
    "    @jax.jit \n",
    "    def ptrsm_vmap( a1, b1 ):\n",
    "\n",
    "      @jax.jit\n",
    "      def ptrsm_scan( a2, b2, i ): \n",
    "\n",
    "        @jax.jit\n",
    "        def f( x, j ):\n",
    "  \n",
    "          x = x.at[ j ].set( x[ j ] + ( 1 - x[ j ] ) * ( b2[ j ] - jnp.dot( a2[ j ], x ) ) % field.p )\n",
    "  \n",
    "          return x, x[ j ]  \n",
    "  \n",
    "        # scan the rows.\n",
    "        return jax.lax.scan( f, I[ i ], R )[ 0 ]\n",
    "\n",
    "      # vmap the columns.\n",
    "      return jax.vmap( ptrsm_scan, in_axes = ( None, 0, 0 ) )( a1, b1.transpose( ), C ).transpose( )\n",
    "\n",
    "    return ptrsm_vmap( aa, b )\n",
    "\n",
    "  @functools.partial( jax.jit, static_argnums = 1 )\n",
    "  def f( a, i ):\n",
    "    \n",
    "    roof = ptrsm( a[ i:i+b, i:i+b ], a[ i:i+b, i+b: ] ) \n",
    "    house = ( a[ i+b:, i+b: ] - jax.lax.dot( a[ i+b: , i:i+b ], roof ) ) % field.p\n",
    "    #return a.at[ i: , i+b: ].set( jnp.vstack( [ roof, house ] ) )\n",
    "    a = a.at[ i:i+b, i+b: ].set( roof )\n",
    "    \n",
    "    return a.at[ i+b:, i+b: ].set( house )\n",
    "\n",
    "  perm = jnp.arange( len( a ) )\n",
    "  m = min( a.shape )\n",
    "  \n",
    "  for i in range( 0, m, B ):\n",
    "    \n",
    "    b = min( m - i, B )\n",
    "    ap = pgetrf2( jnp.hstack( [ a[ i: , i:i+b ], perm[ i: ].reshape( ( -1, 1 ) ) ] ), field.p, field.INV )\n",
    "    perm = perm.at[ i: ].set( ap[ : , -1 ] )\n",
    "    a = a.at[ i:, :-1 ].set( a[ perm[ i: ], :-1 ] ) # swap rows.\n",
    "    a = a.at[ i: , i : i+b ].set( ap[ : , : -1 ] )  # update left wall.\n",
    "\n",
    "    if i + b < a.shape[ 1 ]:\n",
    "      a = f( a, i )\n",
    "  \n",
    "  return a, perm\n",
    "\n",
    "@functools.partial( jax.jit, static_argnums = ( 1, 2 ) )\n",
    "def pgetrf_scan( a, field, B ):\n",
    "\n",
    "  perm = jnp.arange( len( a ) )\n",
    "  m = min( a.shape )\n",
    "  I = jnp.arange( a.shape[ 0 ] )\n",
    "  J = jnp.arange( a.shape[ 1 ] )\n",
    "  \n",
    "  #@functools.partial( jax.jit, static_argnums = 1 )\n",
    "  def f( i, ap ):\n",
    "\n",
    "    a1, perm = ap\n",
    "    #b = min( m - i, B )\n",
    "    b = B\n",
    "    ap_block = pgetrf2( jnp.hstack( [ jax.lax.dynamic_slice( a1, ( 0, i*b ), ( len( a ), b ) ), perm.reshape( ( -1, 1 ) ) ] ), field )\n",
    "    perm = ap_block[ : , -1 ]\n",
    "    a1 = jax.lax.dynamic_update_slice( a1, ap_block[ : , : -1 ], ( 0, i ) )\n",
    "\n",
    "    a00 = jax.lax.dynamic_slice( a1, ( i*b, i*b ), ( b, b ) )\n",
    "    a01 = jax.lax.dynamic_slice( a1, ( i*b, 0 ), ( b, len( J ) ) )\n",
    "    a10 = jax.lax.dynamic_slice( a1, ( 0, i ), ( len( I ), b ) )\n",
    "    #a00 = jnp.where( a00 >= 0 )\n",
    "\n",
    "    a01p = poppy.ptrsm( a00, a01, field.p )\n",
    "    a11p = jax.lax.dot( a10, a01 )\n",
    "    a01 = jnp.where( J[ None, : ] > i*b, a01p, a01 )\n",
    "    a11 = jnp.where( ( I[ : , None ] > i*b ) & ( J[ None, : ] > i*b ), a11p, a1 )\n",
    "    a1 = jax.lax.dynamic_update_slice( a1, a01, ( i, 0 ) )\n",
    "    a1 = ( a1 - a11 ) % field.p\n",
    "\n",
    "  \n",
    "\n",
    "    #a1 = a1.at[ i:i+b, i+b: ].set( poppy.ptrsm( a1[ i:i+b, i:i+b ], a1[ i:i+b, i+b: ], field.p ) )\n",
    "    #a1 = a1.at[ i+b:, i+b: ].add( -jax.lax.dot( a1[ i+b: , i:i+b ], a1[ i:i+b, i+b: ] ) ) % field.p\n",
    "\n",
    "    return a1, perm\n",
    "\n",
    "  return jax.lax.fori_loop(0, m // B, f, ( a, perm ) )\n",
    "  #a = jax.lax.scan( f, a, jnp.arange( m // B ) * B )[ 0 ]\n",
    "  \n",
    "  #return a, perm\n"
   ]
  },
  {
   "cell_type": "code",
   "execution_count": 5,
   "metadata": {},
   "outputs": [],
   "source": [
    "p = 12421\n",
    "N = 512\n",
    "B = 128\n",
    "field = poppy.field( p, 1 )\n",
    "GF = galois.Field( p )\n",
    "a = poppy.random( ( N, N ), field )\n",
    "ag = GF( np.array( a.proj( ) ) )"
   ]
  },
  {
   "cell_type": "code",
   "execution_count": 53,
   "metadata": {},
   "outputs": [
    {
     "name": "stdout",
     "output_type": "stream",
     "text": [
      "60.1 ms ± 10.8 ms per loop (mean ± std. dev. of 7 runs, 1 loop each)\n"
     ]
    }
   ],
   "source": [
    "%timeit pgetrf( a.lift, field, 32 )[ 0 ].block_until_ready( )"
   ]
  },
  {
   "cell_type": "code",
   "execution_count": 77,
   "metadata": {},
   "outputs": [],
   "source": [
    "p = 12421\n",
    "N = 512\n",
    "B = 128\n",
    "field = poppy.field( p, 1 )\n",
    "GF = galois.Field( p )\n",
    "a = poppy.random( ( N, N ), field )\n",
    "ag = GF( np.array( a.proj( ) ) )"
   ]
  },
  {
   "cell_type": "code",
   "execution_count": 158,
   "metadata": {},
   "outputs": [
    {
     "name": "stdout",
     "output_type": "stream",
     "text": [
      "259 ms ± 19.8 ms per loop (mean ± std. dev. of 7 runs, 1 loop each)\n"
     ]
    }
   ],
   "source": [
    "%timeit pgetrf2( a.lift, field ).block_until_ready( )\n",
    "#%timeit a.inv( ).lift.block_until_ready( )"
   ]
  },
  {
   "cell_type": "code",
   "execution_count": 135,
   "metadata": {},
   "outputs": [
    {
     "name": "stdout",
     "output_type": "stream",
     "text": [
      "1.09 s ± 279 ms per loop (mean ± std. dev. of 7 runs, 1 loop each)\n"
     ]
    }
   ],
   "source": [
    "%timeit ag.lu_decompose( )"
   ]
  }
 ],
 "metadata": {
  "kernelspec": {
   "display_name": "Python 3",
   "language": "python",
   "name": "python3"
  },
  "language_info": {
   "codemirror_mode": {
    "name": "ipython",
    "version": 3
   },
   "file_extension": ".py",
   "mimetype": "text/x-python",
   "name": "python",
   "nbconvert_exporter": "python",
   "pygments_lexer": "ipython3",
   "version": "3.12.3"
  }
 },
 "nbformat": 4,
 "nbformat_minor": 2
}
