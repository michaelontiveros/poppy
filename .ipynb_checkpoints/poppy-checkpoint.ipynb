{
 "cells": [
  {
   "cell_type": "code",
   "execution_count": 1,
   "id": "8fedfe46-ef7a-4a35-ae98-bbb4913db77f",
   "metadata": {},
   "outputs": [],
   "source": [
    "import poppy\n",
    "import jax\n",
    "import jax.numpy as jnp\n",
    "import functools\n",
    "import galois\n",
    "import numpy as np"
   ]
  },
  {
   "cell_type": "code",
   "execution_count": 2,
   "id": "69255591-e77c-4df9-8818-7e58128cce0f",
   "metadata": {},
   "outputs": [
    {
     "data": {
      "text/plain": [
       "(array shape (1, 2, 2).\n",
       " field order 29791.,\n",
       " array shape (1, 2, 2).\n",
       " field order 29791.,\n",
       " array shape (1, 1, 2).\n",
       " field order 29791.)"
      ]
     },
     "execution_count": 2,
     "metadata": {},
     "output_type": "execute_result"
    }
   ],
   "source": [
    "p = 31\n",
    "n = 3\n",
    "q = p ** n\n",
    "f = poppy.field( p, n )\n",
    "d = 2\n",
    "a = poppy.random( ( d, d ), f, poppy.seed( 0 ) )\n",
    "b = poppy.random( ( d, d ), f, poppy.seed( 1 ) )\n",
    "c = poppy.random( 2,    f, poppy.seed( 2 ) )\n",
    "a, b, c"
   ]
  },
  {
   "cell_type": "code",
   "execution_count": 3,
   "id": "4b820e0e-7d76-4613-a74d-4a577ef32219",
   "metadata": {},
   "outputs": [
    {
     "data": {
      "text/plain": [
       "(array shape (1, 2, 2).\n",
       " field order 29791.,\n",
       " array shape (1, 2, 2).\n",
       " field order 29791.,\n",
       " Array([[ 6267, 16039],\n",
       "        [16686, 14666]], dtype=int64))"
      ]
     },
     "execution_count": 3,
     "metadata": {},
     "output_type": "execute_result"
    }
   ],
   "source": [
    "ai = a.inv( )\n",
    "ar = a.reciprocal( )\n",
    "bi = b.inv( )\n",
    "ai, bi, ar.proj( )"
   ]
  },
  {
   "cell_type": "code",
   "execution_count": 4,
   "id": "3136367d-2cbd-4e33-b0e6-cdaa9b23bfef",
   "metadata": {},
   "outputs": [
    {
     "name": "stdout",
     "output_type": "stream",
     "text": [
      "[ 0 17 24 24 11 22]\n"
     ]
    },
    {
     "data": {
      "text/plain": [
       "Array([[0, 0, 0, 0, 0, 0],\n",
       "       [0, 0, 0, 0, 0, 0],\n",
       "       [0, 0, 0, 0, 0, 0],\n",
       "       [0, 0, 0, 0, 0, 0],\n",
       "       [0, 0, 0, 0, 0, 0],\n",
       "       [0, 0, 0, 0, 0, 0]], dtype=int64)"
      ]
     },
     "execution_count": 4,
     "metadata": {},
     "output_type": "execute_result"
    }
   ],
   "source": [
    "print( a.lift[ 0, : 10 ] )\n",
    "( a - a @ ai @ a @ bi @ b ).lift"
   ]
  },
  {
   "cell_type": "code",
   "execution_count": 7,
   "id": "6ed4c68b-9e74-402c-ba23-73ddc99ae232",
   "metadata": {},
   "outputs": [
    {
     "name": "stdout",
     "output_type": "stream",
     "text": [
      "500 ms ± 22.7 ms per loop (mean ± std. dev. of 7 runs, 1 loop each)\n"
     ]
    },
    {
     "data": {
      "text/plain": [
       "Array([[22024978, 15576057, 27715061, ..., 17664375, 21353361, 27723172],\n",
       "       [28251625,  1663280, 25264929, ..., 11044844, 24035238, 16544826],\n",
       "       [13295875, 11092780, 14775890, ...,  7219597, 12898641, 20686807],\n",
       "       ...,\n",
       "       [ 5522081, 22602153, 14576384, ..., 22681098, 14901235, 22035277],\n",
       "       [ 5651969,  1852413,  6818261, ..., 23368211, 23760604, 24454116],\n",
       "       [14298171, 13349701,  9820468, ..., 12883307, 26166419, 19875665]],      dtype=int64)"
      ]
     },
     "execution_count": 7,
     "metadata": {},
     "output_type": "execute_result"
    }
   ],
   "source": [
    "p = 31\n",
    "n = 5\n",
    "q = p ** n\n",
    "f = poppy.field( p, n )\n",
    "d = 300\n",
    "a = poppy.random( ( d, d ), f, poppy.seed( 0 ) )\n",
    "r = a.reciprocal( )\n",
    "%timeit a.reciprocal( ).lift.block_until_ready( )\n",
    "r.proj( )"
   ]
  },
  {
   "cell_type": "code",
   "execution_count": 8,
   "id": "c2a4c5ca-a6f4-41c1-9736-e0cf9b10dafc",
   "metadata": {},
   "outputs": [
    {
     "name": "stdout",
     "output_type": "stream",
     "text": [
      "7.29 s ± 81.8 ms per loop (mean ± std. dev. of 7 runs, 1 loop each)\n"
     ]
    }
   ],
   "source": [
    "GF = galois.Field( q )\n",
    "ag = GF( np.array( a.proj( ) ) )\n",
    "%timeit np.reciprocal( ag )"
   ]
  },
  {
   "cell_type": "code",
   "execution_count": 17,
   "id": "674095e4-d4a4-400a-a416-011932ce152e",
   "metadata": {},
   "outputs": [
    {
     "name": "stdout",
     "output_type": "stream",
     "text": [
      "39.7 ms ± 15.9 ms per loop (mean ± std. dev. of 7 runs, 10 loops each)\n"
     ]
    }
   ],
   "source": [
    "%timeit a.trace( ).lift.block_until_ready( )"
   ]
  },
  {
   "cell_type": "code",
   "execution_count": 18,
   "id": "1d3b2834-18ef-4ed6-a6e9-681a0b76a47a",
   "metadata": {},
   "outputs": [
    {
     "name": "stdout",
     "output_type": "stream",
     "text": [
      "9.06 µs ± 89 ns per loop (mean ± std. dev. of 7 runs, 100,000 loops each)\n"
     ]
    }
   ],
   "source": [
    "an = np.array( a.lift )\n",
    "%timeit np.trace( an )"
   ]
  },
  {
   "cell_type": "code",
   "execution_count": 19,
   "id": "8d62b2fa-c242-47ff-b0cb-bcc58285639f",
   "metadata": {},
   "outputs": [
    {
     "name": "stdout",
     "output_type": "stream",
     "text": [
      "170 µs ± 5.19 µs per loop (mean ± std. dev. of 7 runs, 1,000 loops each)\n"
     ]
    }
   ],
   "source": [
    "ag = GF( np.array( a.proj( ) ) )\n",
    "%timeit np.trace( ag )"
   ]
  },
  {
   "cell_type": "code",
   "execution_count": 9,
   "id": "5c0362e1-1568-4313-afe0-aa488f1f81f1",
   "metadata": {},
   "outputs": [
    {
     "data": {
      "text/plain": [
       "(10000, 8832, 169, 24137569)"
      ]
     },
     "execution_count": 9,
     "metadata": {},
     "output_type": "execute_result"
    }
   ],
   "source": [
    "N  = 10000\n",
    "d  = 2\n",
    "p  = 7\n",
    "p1 = 13\n",
    "p2 = 17\n",
    "n  = 6\n",
    "q  = p ** n\n",
    "f  = poppy.field( p,  n )\n",
    "F  = poppy.field( p1, d )\n",
    "FF = poppy.field( p2, n )\n",
    "a  = jax.random.randint( jax.random.PRNGKey( poppy.SEED + 0 ), ( N, F.n, F.n ), 0,       q, dtype = jnp.int64 )\n",
    "AA  = jax.random.randint( jax.random.PRNGKey( poppy.SEED + 1 ),  ( F.n * FF.n, F.n * FF.n ), 0, 2 ** 32, dtype = jnp.int64 )\n",
    "BB  = jax.random.randint( jax.random.PRNGKey( poppy.SEED + 2 ),  ( F.n * FF.n, F.n * FF.n ), 0, 2 ** 32, dtype = jnp.int64 )\n",
    "A  = jax.random.randint( jax.random.PRNGKey( poppy.SEED + 1 ),  ( FF.n, FF.n ), 0, 2 ** 32, dtype = jnp.int64 )\n",
    "B  = jax.random.randint( jax.random.PRNGKey( poppy.SEED + 2 ),  ( FF.n, FF.n ), 0, 2 ** 32, dtype = jnp.int64 )\n",
    "\n",
    "@jax.jit\n",
    "def poppyhash( a ):\n",
    "    b = poppy.proj( AA @ a + BB, F )\n",
    "    c = poppy.proj( A @ b + B, FF )\n",
    "    return c % ( 4 * N )\n",
    "\n",
    "liftbatch = jax.vmap( poppy.lift, in_axes = ( 0, None ) )\n",
    "hashbatch = jax.vmap( poppyhash )\n",
    "\n",
    "ap = liftbatch( a, f )\n",
    "h  = hashbatch( ap ).squeeze( )\n",
    "au = jnp.unique( a, axis = 0 )\n",
    "hu = jnp.unique( h )\n",
    "len( au ), len( hu ), F.q, FF.q"
   ]
  },
  {
   "cell_type": "code",
   "execution_count": null,
   "id": "74e06c00-c69e-4d64-a338-6dfd37edc0a8",
   "metadata": {},
   "outputs": [],
   "source": []
  }
 ],
 "metadata": {
  "kernelspec": {
   "display_name": "Python 3 (ipykernel)",
   "language": "python",
   "name": "python3"
  },
  "language_info": {
   "codemirror_mode": {
    "name": "ipython",
    "version": 3
   },
   "file_extension": ".py",
   "mimetype": "text/x-python",
   "name": "python",
   "nbconvert_exporter": "python",
   "pygments_lexer": "ipython3",
   "version": "3.12.3"
  }
 },
 "nbformat": 4,
 "nbformat_minor": 5
}
