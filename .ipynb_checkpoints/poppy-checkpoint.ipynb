{
 "cells": [
  {
   "cell_type": "code",
   "execution_count": 1,
   "id": "8fedfe46-ef7a-4a35-ae98-bbb4913db77f",
   "metadata": {},
   "outputs": [],
   "source": [
    "import poppy as poppy\n",
    "import jax.numpy as jnp\n",
    "from jax import random"
   ]
  },
  {
   "cell_type": "code",
   "execution_count": 2,
   "id": "2c70e883-5a7b-4e13-9767-08e684aefc21",
   "metadata": {},
   "outputs": [],
   "source": [
    "p, n = 6661, 3\n",
    "f = poppy.field( p, n )"
   ]
  },
  {
   "cell_type": "code",
   "execution_count": 3,
   "id": "69255591-e77c-4df9-8818-7e58128cce0f",
   "metadata": {},
   "outputs": [],
   "source": [
    "d = 128\n",
    "a = random.randint( poppy.KEY1, ( 128, 128 ), 0, p ** n, dtype = jnp.int64 )\n",
    "b = random.randint( poppy.KEY2, ( 128, 128 ), 0, p ** n, dtype = jnp.int64 )"
   ]
  },
  {
   "cell_type": "code",
   "execution_count": 4,
   "id": "2b052fa3-b800-48d0-bb7d-1ec23ad1229c",
   "metadata": {},
   "outputs": [],
   "source": [
    "ap = poppy.array( a, f )\n",
    "bp = poppy.array( b, f )"
   ]
  },
  {
   "cell_type": "code",
   "execution_count": 5,
   "id": "19a6e0b4-5e4c-4da5-9b46-c16c0528f2a0",
   "metadata": {},
   "outputs": [
    {
     "data": {
      "text/plain": [
       "((128, 128), (384, 384))"
      ]
     },
     "execution_count": 5,
     "metadata": {},
     "output_type": "execute_result"
    }
   ],
   "source": [
    "ap.shape, ap.rep.shape"
   ]
  },
  {
   "cell_type": "code",
   "execution_count": 8,
   "id": "4b820e0e-7d76-4613-a74d-4a577ef32219",
   "metadata": {},
   "outputs": [],
   "source": [
    "api = ap.inv( )\n",
    "bpi = bp.inv( )"
   ]
  },
  {
   "cell_type": "code",
   "execution_count": 9,
   "id": "3136367d-2cbd-4e33-b0e6-cdaa9b23bfef",
   "metadata": {},
   "outputs": [
    {
     "name": "stdout",
     "output_type": "stream",
     "text": [
      "[1385  932 3602 1683 4255    6 2600  337 3422 1398]\n"
     ]
    },
    {
     "data": {
      "text/plain": [
       "Array([[0, 0, 0, ..., 0, 0, 0],\n",
       "       [0, 0, 0, ..., 0, 0, 0],\n",
       "       [0, 0, 0, ..., 0, 0, 0],\n",
       "       ...,\n",
       "       [0, 0, 0, ..., 0, 0, 0],\n",
       "       [0, 0, 0, ..., 0, 0, 0],\n",
       "       [0, 0, 0, ..., 0, 0, 0]], dtype=int64)"
      ]
     },
     "execution_count": 9,
     "metadata": {},
     "output_type": "execute_result"
    }
   ],
   "source": [
    "print( ap.rep[ 0, : 10 ] )\n",
    "( ap - ap @ api @ ap @ bpi @ bp ).rep"
   ]
  },
  {
   "cell_type": "code",
   "execution_count": null,
   "id": "d105fbbc-8510-4f50-8339-b124984fe878",
   "metadata": {},
   "outputs": [],
   "source": []
  }
 ],
 "metadata": {
  "kernelspec": {
   "display_name": "Python 3 (ipykernel)",
   "language": "python",
   "name": "python3"
  },
  "language_info": {
   "codemirror_mode": {
    "name": "ipython",
    "version": 3
   },
   "file_extension": ".py",
   "mimetype": "text/x-python",
   "name": "python",
   "nbconvert_exporter": "python",
   "pygments_lexer": "ipython3",
   "version": "3.12.3"
  }
 },
 "nbformat": 4,
 "nbformat_minor": 5
}
