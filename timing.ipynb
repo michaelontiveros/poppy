{
 "cells": [
  {
   "cell_type": "code",
   "execution_count": 1,
   "id": "8fedfe46-ef7a-4a35-ae98-bbb4913db77f",
   "metadata": {},
   "outputs": [],
   "source": [
    "import poppy"
   ]
  },
  {
   "cell_type": "code",
   "execution_count": 6,
   "id": "69255591-e77c-4df9-8818-7e58128cce0f",
   "metadata": {},
   "outputs": [
    {
     "data": {
      "text/plain": [
       "(array shape (2, 10, 10).\n",
       " field order  1916327294461.,\n",
       " array shape (2, 10, 10).\n",
       " field order  1916327294461.,\n",
       " array shape (1, 1, 1).\n",
       " field order  1916327294461.)"
      ]
     },
     "execution_count": 6,
     "metadata": {},
     "output_type": "execute_result"
    }
   ],
   "source": [
    "p = 12421\n",
    "n = 3\n",
    "q = p ** n\n",
    "f = poppy.field(p,n)\n",
    "d = 10\n",
    "a = poppy.random((2,d,d),f,poppy.SEED)\n",
    "b = poppy.random((2,d,d),f,poppy.SEED)\n",
    "c = poppy.random(1,f,poppy.SEED)\n",
    "a, b, c"
   ]
  },
  {
   "cell_type": "code",
   "execution_count": 7,
   "id": "4afb4f91",
   "metadata": {},
   "outputs": [
    {
     "name": "stdout",
     "output_type": "stream",
     "text": [
      "proj\n",
      "17.9 µs ± 2.62 µs per loop (mean ± std. dev. of 7 runs, 100,000 loops each)\n",
      "add\n",
      "24.6 µs ± 1.28 µs per loop (mean ± std. dev. of 7 runs, 10,000 loops each)\n",
      "trace\n",
      "8.06 ms ± 2.69 ms per loop (mean ± std. dev. of 7 runs, 1 loop each)\n",
      "multiply\n",
      "913 µs ± 59.4 µs per loop (mean ± std. dev. of 7 runs, 1,000 loops each)\n",
      "matmul\n",
      "70.4 µs ± 11.2 µs per loop (mean ± std. dev. of 7 runs, 10,000 loops each)\n",
      "lu\n",
      "1.13 ms ± 119 µs per loop (mean ± std. dev. of 7 runs, 1 loop each)\n",
      "lu_block\n",
      "1.43 ms ± 395 µs per loop (mean ± std. dev. of 7 runs, 1 loop each)\n",
      "inv\n",
      "19.5 ms ± 4.81 ms per loop (mean ± std. dev. of 7 runs, 1 loop each)\n",
      "det\n",
      "20.5 ms ± 4.78 ms per loop (mean ± std. dev. of 7 runs, 1 loop each)\n"
     ]
    }
   ],
   "source": [
    "print('proj')\n",
    "%timeit a.proj().block_until_ready()\n",
    "print('add')\n",
    "%timeit (a+b).lift().block_until_ready()\n",
    "print('trace')\n",
    "%timeit a.trace().lift().block_until_ready()\n",
    "print('multiply')\n",
    "%timeit (a*c).lift().block_until_ready()\n",
    "print('matmul')\n",
    "%timeit (a@b).lift().block_until_ready()\n",
    "print('lu')\n",
    "%timeit a.lu()[0].block_until_ready()\n",
    "print('lu_block')\n",
    "%timeit a.lu_block()[0].block_until_ready()\n",
    "print('inv')\n",
    "%timeit a.inv().lift().block_until_ready()\n",
    "print('det')\n",
    "%timeit a.det().lift().block_until_ready()"
   ]
  }
 ],
 "metadata": {
  "kernelspec": {
   "display_name": "Python 3 (ipykernel)",
   "language": "python",
   "name": "python3"
  },
  "language_info": {
   "codemirror_mode": {
    "name": "ipython",
    "version": 3
   },
   "file_extension": ".py",
   "mimetype": "text/x-python",
   "name": "python",
   "nbconvert_exporter": "python",
   "pygments_lexer": "ipython3",
   "version": "3.12.3"
  }
 },
 "nbformat": 4,
 "nbformat_minor": 5
}
