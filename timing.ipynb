{
 "cells": [
  {
   "cell_type": "code",
   "execution_count": null,
   "id": "8fedfe46-ef7a-4a35-ae98-bbb4913db77f",
   "metadata": {},
   "outputs": [],
   "source": [
    "import poppy"
   ]
  },
  {
   "cell_type": "code",
   "execution_count": null,
   "id": "69255591-e77c-4df9-8818-7e58128cce0f",
   "metadata": {},
   "outputs": [],
   "source": [
    "p = 12421\n",
    "n = 3\n",
    "q = p ** n\n",
    "f = poppy.field(p,n)\n",
    "d = 10\n",
    "a = poppy.random((2,d,d),f,poppy.SEED)\n",
    "b = poppy.random((2,d,d),f,poppy.SEED)\n",
    "c = poppy.random(1,f,poppy.SEED)\n",
    "a, b, c"
   ]
  },
  {
   "cell_type": "code",
   "execution_count": null,
   "id": "4afb4f91",
   "metadata": {},
   "outputs": [],
   "source": [
    "print('proj')\n",
    "%timeit a.proj().block_until_ready()\n",
    "print('add')\n",
    "%timeit (a+b).lift().block_until_ready()\n",
    "print('trace')\n",
    "%timeit a.trace().lift().block_until_ready()\n",
    "print('multiply')\n",
    "%timeit (a*c).lift().block_until_ready()\n",
    "print('matmul')\n",
    "%timeit (a@b).lift().block_until_ready()\n",
    "print('lu')\n",
    "%timeit a.lu()[0].block_until_ready()\n",
    "print('lu_block')\n",
    "%timeit a.lu_block()[0].block_until_ready()\n",
    "print('inv')\n",
    "%timeit a.inv().lift().block_until_ready()\n",
    "print('det')\n",
    "%timeit a.det().lift().block_until_ready()\n",
    "print('lps(19,23)')\n",
    "%timeit poppy.lps(19,23)[0].block_until_ready()"
   ]
  }
 ],
 "metadata": {
  "kernelspec": {
   "display_name": "Python 3 (ipykernel)",
   "language": "python",
   "name": "python3"
  },
  "language_info": {
   "codemirror_mode": {
    "name": "ipython",
    "version": 3
   },
   "file_extension": ".py",
   "mimetype": "text/x-python",
   "name": "python",
   "nbconvert_exporter": "python",
   "pygments_lexer": "ipython3",
   "version": "3.12.3"
  }
 },
 "nbformat": 4,
 "nbformat_minor": 5
}
