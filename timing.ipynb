{
 "cells": [
  {
   "cell_type": "code",
   "execution_count": 1,
   "id": "8fedfe46-ef7a-4a35-ae98-bbb4913db77f",
   "metadata": {},
   "outputs": [],
   "source": [
    "import poppy\n",
    "import jax\n",
    "import jax.numpy as jnp\n",
    "import functools\n",
    "import galois\n",
    "import numpy as np"
   ]
  },
  {
   "cell_type": "code",
   "execution_count": 2,
   "id": "69255591-e77c-4df9-8818-7e58128cce0f",
   "metadata": {},
   "outputs": [
    {
     "data": {
      "text/plain": [
       "(array shape (1, 100, 100).\n",
       " field order  4913.,\n",
       " array shape (1, 1, 1).\n",
       " field order  4913.)"
      ]
     },
     "execution_count": 2,
     "metadata": {},
     "output_type": "execute_result"
    }
   ],
   "source": [
    "p = 12421\n",
    "n = 3\n",
    "q = p ** n\n",
    "f = poppy.field(p,n)\n",
    "d = 222\n",
    "a = poppy.random((d,d), f, poppy.SEED)\n",
    "b = poppy.random((d,d), f, poppy.SEED)\n",
    "c = poppy.random(1, f, poppy.SEED)\n",
    "a, b, c"
   ]
  },
  {
   "cell_type": "code",
   "execution_count": null,
   "id": "4afb4f91",
   "metadata": {},
   "outputs": [],
   "source": [
    "%timeit a.proj().lift.block_until_ready()\n",
    "%timeit (a+b).lift.block_until_ready()\n",
    "%timeit a.trace().block_until_ready()\n",
    "%timeit (a*b).lift.block_until_ready()\n",
    "%timeit a.reciprocal().lift.block_until_ready( )\n",
    "%timeit (a@b).lift.block_until_ready()\n",
    "%timeit a.lu()[0].block_until_ready()\n",
    "%timeit a.det().block_until_ready()\n",
    "%timeit a.inv().lift.block_until_ready()"
   ]
  },
  {
   "cell_type": "code",
   "execution_count": 3,
   "id": "4b820e0e-7d76-4613-a74d-4a577ef32219",
   "metadata": {},
   "outputs": [
    {
     "name": "stdout",
     "output_type": "stream",
     "text": [
      "103 ms ± 14.6 ms per loop (mean ± std. dev. of 7 runs, 10 loops each)\n"
     ]
    }
   ],
   "source": [
    "ai = a.inv()\n",
    "ar = a.reciprocal()\n",
    "bi = b.inv()\n",
    "ai, bi, ar\n",
    "%timeit a.inv().lift.block_until_ready()"
   ]
  },
  {
   "cell_type": "code",
   "execution_count": 4,
   "id": "3136367d-2cbd-4e33-b0e6-cdaa9b23bfef",
   "metadata": {},
   "outputs": [
    {
     "name": "stdout",
     "output_type": "stream",
     "text": [
      "[ 9  7 14  7 11  7  0  5  9 12]\n"
     ]
    },
    {
     "data": {
      "text/plain": [
       "Array([[0, 0, 0, ..., 0, 0, 0],\n",
       "       [0, 0, 0, ..., 0, 0, 0],\n",
       "       [0, 0, 0, ..., 0, 0, 0],\n",
       "       ...,\n",
       "       [0, 0, 0, ..., 0, 0, 0],\n",
       "       [0, 0, 0, ..., 0, 0, 0],\n",
       "       [0, 0, 0, ..., 0, 0, 0]], dtype=int64)"
      ]
     },
     "execution_count": 4,
     "metadata": {},
     "output_type": "execute_result"
    }
   ],
   "source": [
    "print(a.lift[0, :10])\n",
    "(a-a@ai@a@bi@b).lift"
   ]
  },
  {
   "cell_type": "code",
   "execution_count": 9,
   "id": "c2a4c5ca-a6f4-41c1-9736-e0cf9b10dafc",
   "metadata": {},
   "outputs": [
    {
     "name": "stdout",
     "output_type": "stream",
     "text": [
      "102 µs ± 6.6 µs per loop (mean ± std. dev. of 7 runs, 10,000 loops each)\n"
     ]
    }
   ],
   "source": [
    "GF = galois.Field( q )\n",
    "ag = GF( np.array( a.proj( ) ) )\n",
    "#%timeit np.reciprocal( ag )\n",
    "%timeit np.trace( ag )\n",
    "#np.reciprocal( ag )"
   ]
  },
  {
   "cell_type": "code",
   "execution_count": 18,
   "id": "1d3b2834-18ef-4ed6-a6e9-681a0b76a47a",
   "metadata": {},
   "outputs": [
    {
     "name": "stdout",
     "output_type": "stream",
     "text": [
      "9.06 µs ± 89 ns per loop (mean ± std. dev. of 7 runs, 100,000 loops each)\n"
     ]
    }
   ],
   "source": [
    "an = np.array( a.lift )\n",
    "%timeit np.trace( an )"
   ]
  },
  {
   "cell_type": "code",
   "execution_count": 19,
   "id": "8d62b2fa-c242-47ff-b0cb-bcc58285639f",
   "metadata": {},
   "outputs": [
    {
     "name": "stdout",
     "output_type": "stream",
     "text": [
      "170 µs ± 5.19 µs per loop (mean ± std. dev. of 7 runs, 1,000 loops each)\n"
     ]
    }
   ],
   "source": [
    "ag = GF( np.array( a.proj( ) ) )\n",
    "%timeit np.trace( ag )"
   ]
  }
 ],
 "metadata": {
  "kernelspec": {
   "display_name": "Python 3 (ipykernel)",
   "language": "python",
   "name": "python3"
  },
  "language_info": {
   "codemirror_mode": {
    "name": "ipython",
    "version": 3
   },
   "file_extension": ".py",
   "mimetype": "text/x-python",
   "name": "python",
   "nbconvert_exporter": "python",
   "pygments_lexer": "ipython3",
   "version": "3.12.3"
  }
 },
 "nbformat": 4,
 "nbformat_minor": 5
}
