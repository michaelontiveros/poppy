{
 "cells": [
  {
   "cell_type": "code",
   "execution_count": 1,
   "id": "8fedfe46-ef7a-4a35-ae98-bbb4913db77f",
   "metadata": {},
   "outputs": [],
   "source": [
    "import poppy\n",
    "import jax\n",
    "import jax.numpy as jnp\n",
    "import functools\n",
    "import galois\n",
    "import numpy as np"
   ]
  },
  {
   "cell_type": "code",
   "execution_count": 2,
   "id": "69255591-e77c-4df9-8818-7e58128cce0f",
   "metadata": {},
   "outputs": [
    {
     "data": {
      "text/plain": [
       "(array shape (1, 10, 10).\n",
       " field order  1916327294461.,\n",
       " array shape (1, 10, 10).\n",
       " field order  1916327294461.,\n",
       " array shape (1, 1, 1).\n",
       " field order  1916327294461.)"
      ]
     },
     "execution_count": 2,
     "metadata": {},
     "output_type": "execute_result"
    }
   ],
   "source": [
    "p = 12421\n",
    "n = 3\n",
    "q = p ** n\n",
    "f = poppy.field(p,n)\n",
    "d = 10\n",
    "a = poppy.random((d,d),f,poppy.SEED)\n",
    "b = poppy.random((d,d),f,poppy.SEED)\n",
    "c = poppy.random(1,f,poppy.SEED)\n",
    "a, b, c"
   ]
  },
  {
   "cell_type": "code",
   "execution_count": 3,
   "id": "4afb4f91",
   "metadata": {},
   "outputs": [
    {
     "name": "stdout",
     "output_type": "stream",
     "text": [
      "proj\n",
      "15.6 µs ± 703 ns per loop (mean ± std. dev. of 7 runs, 10,000 loops each)\n",
      "plus\n",
      "23.5 µs ± 1.48 µs per loop (mean ± std. dev. of 7 runs, 10,000 loops each)\n",
      "trace\n",
      "78.4 µs ± 12.2 µs per loop (mean ± std. dev. of 7 runs, 10,000 loops each)\n",
      "times\n",
      "993 µs ± 25.6 µs per loop (mean ± std. dev. of 7 runs, 1,000 loops each)\n",
      "matmul\n",
      "51.8 µs ± 12.3 µs per loop (mean ± std. dev. of 7 runs, 10,000 loops each)\n",
      "lu\n",
      "545 µs ± 264 µs per loop (mean ± std. dev. of 7 runs, 1 loop each)\n",
      "lu_block\n",
      "237 µs ± 33.9 µs per loop (mean ± std. dev. of 7 runs, 1 loop each)\n",
      "inv\n",
      "3.64 ms ± 626 µs per loop (mean ± std. dev. of 7 runs, 1 loop each)\n",
      "inv_block\n",
      "373 µs ± 32 µs per loop (mean ± std. dev. of 7 runs, 1 loop each)\n",
      "inv_scan\n",
      "309 ms ± 53.5 ms per loop (mean ± std. dev. of 7 runs, 1 loop each)\n",
      "det\n",
      "3.46 ms ± 530 µs per loop (mean ± std. dev. of 7 runs, 1 loop each)\n"
     ]
    }
   ],
   "source": [
    "print('proj')\n",
    "%timeit a.proj().block_until_ready()\n",
    "print('add')\n",
    "%timeit (a+b).lift.block_until_ready()\n",
    "print('trace')\n",
    "%timeit a.trace().lift.block_until_ready()\n",
    "print('multiply')\n",
    "%timeit (a*c).lift.block_until_ready()\n",
    "print('matmul')\n",
    "%timeit (a@b).lift.block_until_ready()\n",
    "print('lu')\n",
    "%timeit a.lu()[0].block_until_ready()\n",
    "print('lu_block')\n",
    "%timeit a.lu_block()[0].block_until_ready()\n",
    "print('inv')\n",
    "%timeit a.inv().lift.block_until_ready()\n",
    "print('inv_block')\n",
    "%timeit a.inv_block().block_until_ready()\n",
    "print('inv_scan')\n",
    "%timeit a.inv_scan().lift.block_until_ready()\n",
    "print('det')\n",
    "%timeit a.det().lift.block_until_ready()"
   ]
  }
 ],
 "metadata": {
  "kernelspec": {
   "display_name": "Python 3 (ipykernel)",
   "language": "python",
   "name": "python3"
  },
  "language_info": {
   "codemirror_mode": {
    "name": "ipython",
    "version": 3
   },
   "file_extension": ".py",
   "mimetype": "text/x-python",
   "name": "python",
   "nbconvert_exporter": "python",
   "pygments_lexer": "ipython3",
   "version": "3.12.3"
  }
 },
 "nbformat": 4,
 "nbformat_minor": 5
}
