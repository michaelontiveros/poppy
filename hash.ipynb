{
 "cells": [
  {
   "cell_type": "code",
   "execution_count": 2,
   "id": "8fedfe46-ef7a-4a35-ae98-bbb4913db77f",
   "metadata": {},
   "outputs": [],
   "source": [
    "import poppy\n",
    "import jax\n",
    "import jax.numpy as jnp\n",
    "import functools\n",
    "import galois\n",
    "import numpy as np"
   ]
  },
  {
   "cell_type": "code",
   "execution_count": 5,
   "id": "5edf88b9",
   "metadata": {},
   "outputs": [
    {
     "data": {
      "text/plain": [
       "Array([[0, 1, 1, 1],\n",
       "       [1, 0, 1, 1],\n",
       "       [1, 1, 0, 1],\n",
       "       [1, 1, 1, 0]], dtype=int64, weak_type=True)"
      ]
     },
     "execution_count": 5,
     "metadata": {},
     "output_type": "execute_result"
    }
   ],
   "source": [
    "R = jnp.arange(4)\n",
    "jnp.where(R[:,None]-R[None,:] == 0, 0, 1)"
   ]
  },
  {
   "cell_type": "code",
   "execution_count": 8,
   "id": "5c0362e1-1568-4313-afe0-aa488f1f81f1",
   "metadata": {},
   "outputs": [
    {
     "data": {
      "text/plain": [
       "(10000, 8832, 169, 24137569)"
      ]
     },
     "execution_count": 8,
     "metadata": {},
     "output_type": "execute_result"
    }
   ],
   "source": [
    "N  = 10000\n",
    "d  = 2\n",
    "p  = 7\n",
    "p1 = 13\n",
    "p2 = 17\n",
    "n  = 6\n",
    "q  = p ** n\n",
    "f  = poppy.field( p,  n )\n",
    "F  = poppy.field( p1, d )\n",
    "FF = poppy.field( p2, n )\n",
    "a  = jax.random.randint( jax.random.PRNGKey( poppy.SEED + 0 ), ( N, F.n, F.n ),            0,       q, dtype = poppy.DTYPE )\n",
    "AA = jax.random.randint( jax.random.PRNGKey( poppy.SEED + 1 ), ( F.n * FF.n, F.n * FF.n ), 0, 2 ** 32, dtype = poppy.DTYPE )\n",
    "BB = jax.random.randint( jax.random.PRNGKey( poppy.SEED + 2 ), ( F.n * FF.n, F.n * FF.n ), 0, 2 ** 32, dtype = poppy.DTYPE )\n",
    "A  = jax.random.randint( jax.random.PRNGKey( poppy.SEED + 1 ), ( FF.n, FF.n ),             0, 2 ** 32, dtype = poppy.DTYPE )\n",
    "B  = jax.random.randint( jax.random.PRNGKey( poppy.SEED + 2 ), ( FF.n, FF.n ),             0, 2 ** 32, dtype = poppy.DTYPE )\n",
    "\n",
    "@jax.jit\n",
    "def poppyhash( a ):\n",
    "    b = poppy.proj( AA @ a + BB, F )\n",
    "    c = poppy.proj( A @ b + B, FF )\n",
    "    return c % ( 4 * N )\n",
    "\n",
    "liftbatch = jax.vmap( poppy.lift, in_axes = ( 0, None ) )\n",
    "hashbatch = jax.vmap( poppyhash )\n",
    "\n",
    "ap = liftbatch( a, f )\n",
    "h  = hashbatch( ap ).squeeze( )\n",
    "au = jnp.unique( a, axis = 0 )\n",
    "hu = jnp.unique( h )\n",
    "len( au ), len( hu ), F.q, FF.q"
   ]
  },
  {
   "cell_type": "code",
   "execution_count": null,
   "id": "74e06c00-c69e-4d64-a338-6dfd37edc0a8",
   "metadata": {},
   "outputs": [],
   "source": []
  }
 ],
 "metadata": {
  "kernelspec": {
   "display_name": "Python 3 (ipykernel)",
   "language": "python",
   "name": "python3"
  },
  "language_info": {
   "codemirror_mode": {
    "name": "ipython",
    "version": 3
   },
   "file_extension": ".py",
   "mimetype": "text/x-python",
   "name": "python",
   "nbconvert_exporter": "python",
   "pygments_lexer": "ipython3",
   "version": "3.12.3"
  }
 },
 "nbformat": 4,
 "nbformat_minor": 5
}
