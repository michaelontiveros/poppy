{
 "cells": [
  {
   "cell_type": "code",
   "execution_count": 18,
   "id": "8fedfe46-ef7a-4a35-ae98-bbb4913db77f",
   "metadata": {},
   "outputs": [],
   "source": [
    "import poppy\n",
    "import jax.numpy as jnp\n",
    "from   jax       import random, jit, vmap\n",
    "from functools  import partial"
   ]
  },
  {
   "cell_type": "code",
   "execution_count": 2,
   "id": "2c70e883-5a7b-4e13-9767-08e684aefc21",
   "metadata": {},
   "outputs": [],
   "source": [
    "p = 5\n",
    "n = 3\n",
    "f = poppy.field( p, n )"
   ]
  },
  {
   "cell_type": "code",
   "execution_count": 3,
   "id": "69255591-e77c-4df9-8818-7e58128cce0f",
   "metadata": {},
   "outputs": [],
   "source": [
    "d = 4\n",
    "a = random.randint( random.PRNGKey( poppy.seed + 0 ), ( d, d ), 0, p ** n, dtype = jnp.int64 )\n",
    "b = random.randint( random.PRNGKey( poppy.seed + 1 ), ( d, d ), 0, p ** n, dtype = jnp.int64 )"
   ]
  },
  {
   "cell_type": "code",
   "execution_count": 4,
   "id": "2b052fa3-b800-48d0-bb7d-1ec23ad1229c",
   "metadata": {},
   "outputs": [],
   "source": [
    "ap = poppy.array( a, f )\n",
    "bp = poppy.array( b, f )"
   ]
  },
  {
   "cell_type": "code",
   "execution_count": 5,
   "id": "19a6e0b4-5e4c-4da5-9b46-c16c0528f2a0",
   "metadata": {},
   "outputs": [
    {
     "data": {
      "text/plain": [
       "((4, 4), (12, 12))"
      ]
     },
     "execution_count": 5,
     "metadata": {},
     "output_type": "execute_result"
    }
   ],
   "source": [
    "ap.shape, ap.rep.shape, ap.rep"
   ]
  },
  {
   "cell_type": "code",
   "execution_count": 6,
   "id": "4b820e0e-7d76-4613-a74d-4a577ef32219",
   "metadata": {},
   "outputs": [],
   "source": [
    "api = ap.inv( )\n",
    "bpi = bp.inv( )"
   ]
  },
  {
   "cell_type": "code",
   "execution_count": 7,
   "id": "3136367d-2cbd-4e33-b0e6-cdaa9b23bfef",
   "metadata": {},
   "outputs": [
    {
     "name": "stdout",
     "output_type": "stream",
     "text": [
      "[2 4 1 3 0 3 3 0 0 1]\n"
     ]
    },
    {
     "data": {
      "text/plain": [
       "Array([[0, 0, 0, 0, 0, 0, 0, 0, 0, 0, 0, 0],\n",
       "       [0, 0, 0, 0, 0, 0, 0, 0, 0, 0, 0, 0],\n",
       "       [0, 0, 0, 0, 0, 0, 0, 0, 0, 0, 0, 0],\n",
       "       [0, 0, 0, 0, 0, 0, 0, 0, 0, 0, 0, 0],\n",
       "       [0, 0, 0, 0, 0, 0, 0, 0, 0, 0, 0, 0],\n",
       "       [0, 0, 0, 0, 0, 0, 0, 0, 0, 0, 0, 0],\n",
       "       [0, 0, 0, 0, 0, 0, 0, 0, 0, 0, 0, 0],\n",
       "       [0, 0, 0, 0, 0, 0, 0, 0, 0, 0, 0, 0],\n",
       "       [0, 0, 0, 0, 0, 0, 0, 0, 0, 0, 0, 0],\n",
       "       [0, 0, 0, 0, 0, 0, 0, 0, 0, 0, 0, 0],\n",
       "       [0, 0, 0, 0, 0, 0, 0, 0, 0, 0, 0, 0],\n",
       "       [0, 0, 0, 0, 0, 0, 0, 0, 0, 0, 0, 0]], dtype=int64)"
      ]
     },
     "execution_count": 7,
     "metadata": {},
     "output_type": "execute_result"
    }
   ],
   "source": [
    "print( ap.rep[ 0, : 10 ] )\n",
    "( ap - ap @ api @ ap @ bpi @ bp ).rep"
   ]
  },
  {
   "cell_type": "code",
   "execution_count": 72,
   "id": "d105fbbc-8510-4f50-8339-b124984fe878",
   "metadata": {},
   "outputs": [],
   "source": [
    "@partial( jit, static_argnums = ( 1, 2 ) )\n",
    "def poppyhash( a, F, FF ):\n",
    "    b = poppy.proj( a, F )\n",
    "    c = poppy.proj( b, FF )\n",
    "    return c"
   ]
  },
  {
   "cell_type": "code",
   "execution_count": 75,
   "id": "4e08fed0-b688-4d9c-997d-46d84467685a",
   "metadata": {},
   "outputs": [],
   "source": [
    "liftbatch = vmap( poppy.lift, in_axes = ( 0, None ) )\n",
    "hashbatch = vmap( poppyhash,  in_axes = ( 0, None, None ) )"
   ]
  },
  {
   "cell_type": "code",
   "execution_count": 89,
   "id": "5c0362e1-1568-4313-afe0-aa488f1f81f1",
   "metadata": {},
   "outputs": [
    {
     "data": {
      "text/plain": [
       "(100000, 99983)"
      ]
     },
     "execution_count": 89,
     "metadata": {},
     "output_type": "execute_result"
    }
   ],
   "source": [
    "p  = 5\n",
    "n  = 6\n",
    "d  = 10\n",
    "N  = 100000\n",
    "a  = random.randint( random.PRNGKey( poppy.seed ), ( N, d, d ), 0, p ** n, dtype = jnp.int64 )\n",
    "ap = liftbatch( a, poppy.field( p, n ) )\n",
    "F  = poppy.field( 31, n )\n",
    "FF = poppy.field( 7, d )\n",
    "h  = hashbatch( ap, F, FF ).squeeze( )\n",
    "au = jnp.unique( a, axis = 0 )\n",
    "hu = jnp.unique( h )\n",
    "len( au ), len( hu )"
   ]
  },
  {
   "cell_type": "code",
   "execution_count": null,
   "id": "83a8fd76-5e9a-4d43-8051-da456caf757c",
   "metadata": {},
   "outputs": [],
   "source": []
  }
 ],
 "metadata": {
  "kernelspec": {
   "display_name": "Python 3 (ipykernel)",
   "language": "python",
   "name": "python3"
  },
  "language_info": {
   "codemirror_mode": {
    "name": "ipython",
    "version": 3
   },
   "file_extension": ".py",
   "mimetype": "text/x-python",
   "name": "python",
   "nbconvert_exporter": "python",
   "pygments_lexer": "ipython3",
   "version": "3.12.3"
  }
 },
 "nbformat": 4,
 "nbformat_minor": 5
}
