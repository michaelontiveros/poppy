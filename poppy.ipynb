{
 "cells": [
  {
   "cell_type": "code",
   "execution_count": 1,
   "id": "8fedfe46-ef7a-4a35-ae98-bbb4913db77f",
   "metadata": {},
   "outputs": [],
   "source": [
    "import poppy\n",
    "import jax\n",
    "import jax.numpy as jnp\n",
    "import functools\n",
    "import galois\n",
    "import numpy as np"
   ]
  },
  {
   "cell_type": "code",
   "execution_count": 2,
   "id": "2c70e883-5a7b-4e13-9767-08e684aefc21",
   "metadata": {},
   "outputs": [
    {
     "data": {
      "text/plain": [
       "(Array([[[   1,    0,    0],\n",
       "         [   0,    1,    0],\n",
       "         [   0,    0,    1]],\n",
       " \n",
       "        [[   0,    1,    0],\n",
       "         [   0,    0,    1],\n",
       "         [   6, 6660,    0]],\n",
       " \n",
       "        [[   0,    0,    1],\n",
       "         [   6, 6660,    0],\n",
       "         [   0,    6, 6660]]], dtype=int64),\n",
       " Array([   0,    1, 3331, ..., 2220, 3330, 6660], dtype=int64))"
      ]
     },
     "execution_count": 2,
     "metadata": {},
     "output_type": "execute_result"
    }
   ],
   "source": [
    "p = 6661\n",
    "n = 3\n",
    "f = poppy.field( p, n )\n",
    "f.X, f.INV"
   ]
  },
  {
   "cell_type": "code",
   "execution_count": 3,
   "id": "69255591-e77c-4df9-8818-7e58128cce0f",
   "metadata": {},
   "outputs": [],
   "source": [
    "p = 13\n",
    "n = 2\n",
    "f = poppy.field( p, n )\n",
    "d = 3\n",
    "a = poppy.random( ( d, d ), f, poppy.SEED + 0 )\n",
    "b = poppy.random( ( d, d ), f, poppy.SEED + 1 )"
   ]
  },
  {
   "cell_type": "code",
   "execution_count": 4,
   "id": "4b820e0e-7d76-4613-a74d-4a577ef32219",
   "metadata": {},
   "outputs": [],
   "source": [
    "ai = a.inv( )\n",
    "bi = b.inv( )"
   ]
  },
  {
   "cell_type": "code",
   "execution_count": 5,
   "id": "3136367d-2cbd-4e33-b0e6-cdaa9b23bfef",
   "metadata": {},
   "outputs": [
    {
     "name": "stdout",
     "output_type": "stream",
     "text": [
      "[ 1  5 11 10  9  2]\n"
     ]
    },
    {
     "data": {
      "text/plain": [
       "Array([[0, 0, 0, 0, 0, 0],\n",
       "       [0, 0, 0, 0, 0, 0],\n",
       "       [0, 0, 0, 0, 0, 0],\n",
       "       [0, 0, 0, 0, 0, 0],\n",
       "       [0, 0, 0, 0, 0, 0],\n",
       "       [0, 0, 0, 0, 0, 0]], dtype=int64)"
      ]
     },
     "execution_count": 5,
     "metadata": {},
     "output_type": "execute_result"
    }
   ],
   "source": [
    "print( a.lift[ 0, : 10 ] )\n",
    "( a - a @ ai @ a @ bi @ b ).lift"
   ]
  },
  {
   "cell_type": "code",
   "execution_count": 6,
   "id": "7170743c-fbef-454f-9437-dcebb8cd48b0",
   "metadata": {},
   "outputs": [
    {
     "data": {
      "text/plain": [
       "Array([[244]], dtype=int64)"
      ]
     },
     "execution_count": 6,
     "metadata": {},
     "output_type": "execute_result"
    }
   ],
   "source": [
    "p = 31\n",
    "n = 2\n",
    "d = 1000\n",
    "f = poppy.field( p, n )\n",
    "a  = jax.random.randint( jax.random.PRNGKey( poppy.SEED + 1 ), ( d, d ), 0, f.q, dtype = jnp.int64 )\n",
    "ap = poppy.array( a, f )\n",
    "ap.trace( ).proj( )"
   ]
  },
  {
   "cell_type": "code",
   "execution_count": 7,
   "id": "02c19e94-fe1b-4c91-a402-902bd95f30d8",
   "metadata": {},
   "outputs": [
    {
     "data": {
      "text/plain": [
       "GF(244, order=31^2)"
      ]
     },
     "execution_count": 7,
     "metadata": {},
     "output_type": "execute_result"
    }
   ],
   "source": [
    "GF = galois.GF( p, n )\n",
    "np.trace( GF( np.array( a ) ) )"
   ]
  },
  {
   "cell_type": "code",
   "execution_count": 8,
   "id": "ade9ec6a-95d9-4f3a-aa5e-0cfa933470de",
   "metadata": {},
   "outputs": [
    {
     "name": "stdout",
     "output_type": "stream",
     "text": [
      "33.1 ms ± 3.05 ms per loop (mean ± std. dev. of 7 runs, 10 loops each)\n"
     ]
    }
   ],
   "source": [
    "ap.lift, poppy.v2i( jnp.sum( jnp.pad( ap.lift.ravel( ), ( 0, d*n ) ).reshape( ( -1, d * n * n + n ) )[ : , : n ], axis = 0 ) % p, f )\n",
    "%timeit poppy.v2i( jnp.sum( jnp.pad( ap.lift.ravel( ), ( 0, d*n ) ).reshape( ( -1, d * n * n + n ) )[ : , : n ], axis = 0 ) % p, f ).block_until_ready( )"
   ]
  },
  {
   "cell_type": "code",
   "execution_count": 9,
   "id": "674095e4-d4a4-400a-a416-011932ce152e",
   "metadata": {},
   "outputs": [
    {
     "name": "stdout",
     "output_type": "stream",
     "text": [
      "30.9 ms ± 512 µs per loop (mean ± std. dev. of 7 runs, 10 loops each)\n"
     ]
    }
   ],
   "source": [
    "%timeit ap.trace( ).lift.block_until_ready( )"
   ]
  },
  {
   "cell_type": "code",
   "execution_count": 10,
   "id": "8d62b2fa-c242-47ff-b0cb-bcc58285639f",
   "metadata": {},
   "outputs": [
    {
     "name": "stdout",
     "output_type": "stream",
     "text": [
      "5.4 ms ± 229 µs per loop (mean ± std. dev. of 7 runs, 100 loops each)\n"
     ]
    }
   ],
   "source": [
    "%timeit np.trace( GF( np.array( a ) ) )"
   ]
  },
  {
   "cell_type": "code",
   "execution_count": 7,
   "id": "5c0362e1-1568-4313-afe0-aa488f1f81f1",
   "metadata": {},
   "outputs": [
    {
     "data": {
      "text/plain": [
       "(10000, 8908, 169, 24137569)"
      ]
     },
     "execution_count": 7,
     "metadata": {},
     "output_type": "execute_result"
    }
   ],
   "source": [
    "N  = 10000\n",
    "d  = 2\n",
    "p  = 7\n",
    "p1 = 13\n",
    "p2 = 17\n",
    "n  = 6\n",
    "q  = p ** n\n",
    "f  = poppy.field( p,  n )\n",
    "F  = poppy.field( p1, d )\n",
    "FF = poppy.field( p2, n )\n",
    "a  = jax.random.randint( jax.random.PRNGKey( poppy.SEED + 0 ), ( N, F.n, F.n ), 0,       q, dtype = jnp.int64 )\n",
    "AA  = jax.random.randint( jax.random.PRNGKey( poppy.SEED + 1 ),  ( F.n * FF.n, F.n * FF.n ), 0, 2 ** 32, dtype = jnp.int64 )\n",
    "BB  = jax.random.randint( jax.random.PRNGKey( poppy.SEED + 2 ),  ( F.n * FF.n, F.n * FF.n ), 0, 2 ** 32, dtype = jnp.int64 )\n",
    "A  = jax.random.randint( jax.random.PRNGKey( poppy.SEED + 1 ),  ( FF.n, FF.n ), 0, 2 ** 32, dtype = jnp.int64 )\n",
    "B  = jax.random.randint( jax.random.PRNGKey( poppy.SEED + 2 ),  ( FF.n, FF.n ), 0, 2 ** 32, dtype = jnp.int64 )\n",
    "\n",
    "@jax.jit\n",
    "def poppyhash( a ):\n",
    "    b = poppy.proj( AA @ a + BB, F )\n",
    "    c = poppy.proj( A @ b + B, FF )\n",
    "    return c % ( 4 * N )\n",
    "\n",
    "liftbatch = jax.vmap( poppy.lift, in_axes = ( 0, None ) )\n",
    "hashbatch = jax.vmap( poppyhash )\n",
    "\n",
    "ap = liftbatch( a, f )\n",
    "h  = hashbatch( ap ).squeeze( )\n",
    "au = jnp.unique( a, axis = 0 )\n",
    "hu = jnp.unique( h )\n",
    "len( au ), len( hu ), F.q, FF.q"
   ]
  },
  {
   "cell_type": "code",
   "execution_count": null,
   "id": "74e06c00-c69e-4d64-a338-6dfd37edc0a8",
   "metadata": {},
   "outputs": [],
   "source": []
  }
 ],
 "metadata": {
  "kernelspec": {
   "display_name": "Python 3 (ipykernel)",
   "language": "python",
   "name": "python3"
  },
  "language_info": {
   "codemirror_mode": {
    "name": "ipython",
    "version": 3
   },
   "file_extension": ".py",
   "mimetype": "text/x-python",
   "name": "python",
   "nbconvert_exporter": "python",
   "pygments_lexer": "ipython3",
   "version": "3.12.3"
  }
 },
 "nbformat": 4,
 "nbformat_minor": 5
}
