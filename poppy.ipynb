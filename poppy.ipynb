{
 "cells": [
  {
   "cell_type": "code",
   "execution_count": 1,
   "id": "8fedfe46-ef7a-4a35-ae98-bbb4913db77f",
   "metadata": {},
   "outputs": [],
   "source": [
    "import poppy\n",
    "import jax\n",
    "import jax.numpy as jnp\n",
    "import functools\n",
    "import galois\n",
    "import numpy as np"
   ]
  },
  {
   "cell_type": "code",
   "execution_count": 2,
   "id": "69255591-e77c-4df9-8818-7e58128cce0f",
   "metadata": {},
   "outputs": [
    {
     "data": {
      "text/plain": [
       "(array shape (1, 100, 100).\n",
       " field order  4913.,\n",
       " array shape (1, 1, 1).\n",
       " field order  4913.)"
      ]
     },
     "execution_count": 2,
     "metadata": {},
     "output_type": "execute_result"
    }
   ],
   "source": [
    "p = 17\n",
    "n = 3\n",
    "q = p ** n\n",
    "f = poppy.field( p, n )\n",
    "d = 100\n",
    "a = poppy.random( ( d, d ), f, poppy.seed( 0 ) )\n",
    "b = poppy.random( ( d, d ), f, poppy.seed( 1 ) )\n",
    "c = poppy.random( 1, f, poppy.seed( 5) )\n",
    "a, c"
   ]
  },
  {
   "cell_type": "code",
   "execution_count": 4,
   "id": "b4bf6a9f",
   "metadata": {},
   "outputs": [
    {
     "name": "stdout",
     "output_type": "stream",
     "text": [
      "559 µs ± 95.8 µs per loop (mean ± std. dev. of 7 runs, 1,000 loops each)\n",
      "1.05 ms ± 56.9 µs per loop (mean ± std. dev. of 7 runs, 1,000 loops each)\n"
     ]
    }
   ],
   "source": [
    "an = np.array( a.lift )\n",
    "%timeit ( a.lift % 5 ).block_until_ready( )\n",
    "%timeit an % 5"
   ]
  },
  {
   "cell_type": "code",
   "execution_count": 62,
   "id": "d3e9a0ce",
   "metadata": {},
   "outputs": [
    {
     "data": {
      "text/plain": [
       "74"
      ]
     },
     "execution_count": 62,
     "metadata": {},
     "output_type": "execute_result"
    }
   ],
   "source": [
    "13*29%p"
   ]
  },
  {
   "cell_type": "code",
   "execution_count": 3,
   "id": "4b820e0e-7d76-4613-a74d-4a577ef32219",
   "metadata": {},
   "outputs": [
    {
     "data": {
      "text/plain": [
       "(array shape (1, 100, 100).\n",
       " field order  4913.,\n",
       " array shape (1, 100, 100).\n",
       " field order  4913.,\n",
       " array shape (1, 100, 100).\n",
       " field order  4913.)"
      ]
     },
     "execution_count": 3,
     "metadata": {},
     "output_type": "execute_result"
    }
   ],
   "source": [
    "ai = a.inv( )\n",
    "ar = a.reciprocal( )\n",
    "bi = b.inv( )\n",
    "ai, bi, ar"
   ]
  },
  {
   "cell_type": "code",
   "execution_count": 4,
   "id": "3136367d-2cbd-4e33-b0e6-cdaa9b23bfef",
   "metadata": {},
   "outputs": [
    {
     "name": "stdout",
     "output_type": "stream",
     "text": [
      "[ 9  7 14  7 11  7  0  5  9 12]\n"
     ]
    },
    {
     "data": {
      "text/plain": [
       "Array([[0, 0, 0, ..., 0, 0, 0],\n",
       "       [0, 0, 0, ..., 0, 0, 0],\n",
       "       [0, 0, 0, ..., 0, 0, 0],\n",
       "       ...,\n",
       "       [0, 0, 0, ..., 0, 0, 0],\n",
       "       [0, 0, 0, ..., 0, 0, 0],\n",
       "       [0, 0, 0, ..., 0, 0, 0]], dtype=int64)"
      ]
     },
     "execution_count": 4,
     "metadata": {},
     "output_type": "execute_result"
    }
   ],
   "source": [
    "print( a.lift[ 0, : 10 ] )\n",
    "( a - a @ ai @ a @ bi @ b ).lift"
   ]
  },
  {
   "cell_type": "code",
   "execution_count": 26,
   "id": "6ed4c68b-9e74-402c-ba23-73ddc99ae232",
   "metadata": {},
   "outputs": [
    {
     "name": "stdout",
     "output_type": "stream",
     "text": [
      "373 ms ± 49.9 ms per loop (mean ± std. dev. of 7 runs, 1 loop each)\n",
      "62.5 µs ± 2.3 µs per loop (mean ± std. dev. of 7 runs, 10,000 loops each)\n"
     ]
    },
    {
     "data": {
      "text/plain": [
       "Array([[25178, 19723, 13005, 28359,  5063,  8210, 17839, 19558, 15281,\n",
       "        21655, 27245],\n",
       "       [ 1021,  3223, 13798, 19757, 20005,  4700,  6502,  2920, 22231,\n",
       "        21908, 17624],\n",
       "       [ 6201, 10417,  3834,  8231,  4453,  8128, 11518, 13707, 26822,\n",
       "         9602,  9341],\n",
       "       [14133, 10246, 11966, 23409, 17770,  5125, 19753,  1505, 11097,\n",
       "        22602,  9936],\n",
       "       [26790,  1986, 28439, 11225, 12395,  8927, 19801, 22985, 16064,\n",
       "         7665,  9482],\n",
       "       [19623, 16317, 14151, 10184, 29120,  6137, 13444,   712, 10899,\n",
       "        13309, 21190],\n",
       "       [14247, 11432, 12549,  9006, 20100, 15279,  1700,  2508,  8308,\n",
       "        12132,  9371],\n",
       "       [21833,  8834, 24275,  9901, 26367, 17174, 29346, 20879, 14192,\n",
       "        25239,  2932],\n",
       "       [16631, 19441,   375,  9720,  5966,  8425, 15731,  9488,  8417,\n",
       "        28797,  4338],\n",
       "       [ 9138, 22525, 17861, 29779, 22083,  9632, 11935,   793, 17730,\n",
       "          467, 12728],\n",
       "       [24147, 22582, 18807, 21416,  1405, 21753,  6260, 19317, 15752,\n",
       "        23954, 21957]], dtype=int64)"
      ]
     },
     "execution_count": 26,
     "metadata": {},
     "output_type": "execute_result"
    }
   ],
   "source": [
    "%timeit a.reciprocal( ).lift.block_until_ready( )\n",
    "%timeit a.trace( ).lift.block_until_ready( )\n",
    "ar.proj( )"
   ]
  },
  {
   "cell_type": "code",
   "execution_count": 27,
   "id": "c2a4c5ca-a6f4-41c1-9736-e0cf9b10dafc",
   "metadata": {},
   "outputs": [
    {
     "name": "stdout",
     "output_type": "stream",
     "text": [
      "55.3 µs ± 1.74 µs per loop (mean ± std. dev. of 7 runs, 10,000 loops each)\n",
      "131 µs ± 63.9 µs per loop (mean ± std. dev. of 7 runs, 1 loop each)\n"
     ]
    },
    {
     "data": {
      "text/plain": [
       "GF([[25178, 19723, 13005, 28359,  5063,  8210, 17839, 19558, 15281,\n",
       "     21655, 27245],\n",
       "    [ 1021,  3223, 13798, 19757, 20005,  4700,  6502,  2920, 22231,\n",
       "     21908, 17624],\n",
       "    [ 6201, 10417,  3834,  8231,  4453,  8128, 11518, 13707, 26822,\n",
       "      9602,  9341],\n",
       "    [14133, 10246, 11966, 23409, 17770,  5125, 19753,  1505, 11097,\n",
       "     22602,  9936],\n",
       "    [26790,  1986, 28439, 11225, 12395,  8927, 19801, 22985, 16064,\n",
       "      7665,  9482],\n",
       "    [19623, 16317, 14151, 10184, 29120,  6137, 13444,   712, 10899,\n",
       "     13309, 21190],\n",
       "    [14247, 11432, 12549,  9006, 20100, 15279,  1700,  2508,  8308,\n",
       "     12132,  9371],\n",
       "    [21833,  8834, 24275,  9901, 26367, 17174, 29346, 20879, 14192,\n",
       "     25239,  2932],\n",
       "    [16631, 19441,   375,  9720,  5966,  8425, 15731,  9488,  8417,\n",
       "     28797,  4338],\n",
       "    [ 9138, 22525, 17861, 29779, 22083,  9632, 11935,   793, 17730,\n",
       "       467, 12728],\n",
       "    [24147, 22582, 18807, 21416,  1405, 21753,  6260, 19317, 15752,\n",
       "     23954, 21957]], order=31^3)"
      ]
     },
     "execution_count": 27,
     "metadata": {},
     "output_type": "execute_result"
    }
   ],
   "source": [
    "GF = galois.Field( q )\n",
    "ag = GF( np.array( a.proj( ) ) )\n",
    "%timeit np.reciprocal( ag )\n",
    "%timeit np.trace( ag )\n",
    "np.reciprocal( ag )"
   ]
  },
  {
   "cell_type": "code",
   "execution_count": 17,
   "id": "674095e4-d4a4-400a-a416-011932ce152e",
   "metadata": {},
   "outputs": [
    {
     "name": "stdout",
     "output_type": "stream",
     "text": [
      "39.7 ms ± 15.9 ms per loop (mean ± std. dev. of 7 runs, 10 loops each)\n"
     ]
    }
   ],
   "source": [
    "%timeit a.trace( ).lift.block_until_ready( )"
   ]
  },
  {
   "cell_type": "code",
   "execution_count": 18,
   "id": "1d3b2834-18ef-4ed6-a6e9-681a0b76a47a",
   "metadata": {},
   "outputs": [
    {
     "name": "stdout",
     "output_type": "stream",
     "text": [
      "9.06 µs ± 89 ns per loop (mean ± std. dev. of 7 runs, 100,000 loops each)\n"
     ]
    }
   ],
   "source": [
    "an = np.array( a.lift )\n",
    "%timeit np.trace( an )"
   ]
  },
  {
   "cell_type": "code",
   "execution_count": 19,
   "id": "8d62b2fa-c242-47ff-b0cb-bcc58285639f",
   "metadata": {},
   "outputs": [
    {
     "name": "stdout",
     "output_type": "stream",
     "text": [
      "170 µs ± 5.19 µs per loop (mean ± std. dev. of 7 runs, 1,000 loops each)\n"
     ]
    }
   ],
   "source": [
    "ag = GF( np.array( a.proj( ) ) )\n",
    "%timeit np.trace( ag )"
   ]
  },
  {
   "cell_type": "code",
   "execution_count": 9,
   "id": "5c0362e1-1568-4313-afe0-aa488f1f81f1",
   "metadata": {},
   "outputs": [
    {
     "data": {
      "text/plain": [
       "(10000, 8832, 169, 24137569)"
      ]
     },
     "execution_count": 9,
     "metadata": {},
     "output_type": "execute_result"
    }
   ],
   "source": [
    "N  = 10000\n",
    "d  = 2\n",
    "p  = 7\n",
    "p1 = 13\n",
    "p2 = 17\n",
    "n  = 6\n",
    "q  = p ** n\n",
    "f  = poppy.field( p,  n )\n",
    "F  = poppy.field( p1, d )\n",
    "FF = poppy.field( p2, n )\n",
    "a  = jax.random.randint( jax.random.PRNGKey( poppy.SEED + 0 ), ( N, F.n, F.n ), 0,       q, dtype = jnp.int64 )\n",
    "AA  = jax.random.randint( jax.random.PRNGKey( poppy.SEED + 1 ),  ( F.n * FF.n, F.n * FF.n ), 0, 2 ** 32, dtype = jnp.int64 )\n",
    "BB  = jax.random.randint( jax.random.PRNGKey( poppy.SEED + 2 ),  ( F.n * FF.n, F.n * FF.n ), 0, 2 ** 32, dtype = jnp.int64 )\n",
    "A  = jax.random.randint( jax.random.PRNGKey( poppy.SEED + 1 ),  ( FF.n, FF.n ), 0, 2 ** 32, dtype = jnp.int64 )\n",
    "B  = jax.random.randint( jax.random.PRNGKey( poppy.SEED + 2 ),  ( FF.n, FF.n ), 0, 2 ** 32, dtype = jnp.int64 )\n",
    "\n",
    "@jax.jit\n",
    "def poppyhash( a ):\n",
    "    b = poppy.proj( AA @ a + BB, F )\n",
    "    c = poppy.proj( A @ b + B, FF )\n",
    "    return c % ( 4 * N )\n",
    "\n",
    "liftbatch = jax.vmap( poppy.lift, in_axes = ( 0, None ) )\n",
    "hashbatch = jax.vmap( poppyhash )\n",
    "\n",
    "ap = liftbatch( a, f )\n",
    "h  = hashbatch( ap ).squeeze( )\n",
    "au = jnp.unique( a, axis = 0 )\n",
    "hu = jnp.unique( h )\n",
    "len( au ), len( hu ), F.q, FF.q"
   ]
  },
  {
   "cell_type": "code",
   "execution_count": null,
   "id": "74e06c00-c69e-4d64-a338-6dfd37edc0a8",
   "metadata": {},
   "outputs": [],
   "source": []
  }
 ],
 "metadata": {
  "kernelspec": {
   "display_name": "Python 3 (ipykernel)",
   "language": "python",
   "name": "python3"
  },
  "language_info": {
   "codemirror_mode": {
    "name": "ipython",
    "version": 3
   },
   "file_extension": ".py",
   "mimetype": "text/x-python",
   "name": "python",
   "nbconvert_exporter": "python",
   "pygments_lexer": "ipython3",
   "version": "3.12.3"
  }
 },
 "nbformat": 4,
 "nbformat_minor": 5
}
