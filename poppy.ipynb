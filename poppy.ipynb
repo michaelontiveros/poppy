{
 "cells": [
  {
   "cell_type": "code",
   "execution_count": 1,
   "id": "8fedfe46-ef7a-4a35-ae98-bbb4913db77f",
   "metadata": {},
   "outputs": [],
   "source": [
    "import poppy\n",
    "import jax\n",
    "import jax.numpy as jnp\n",
    "import functools\n",
    "import galois\n",
    "import numpy as np"
   ]
  },
  {
   "cell_type": "code",
   "execution_count": 2,
   "id": "2c70e883-5a7b-4e13-9767-08e684aefc21",
   "metadata": {},
   "outputs": [
    {
     "data": {
      "text/plain": [
       "field order 295541382781."
      ]
     },
     "execution_count": 2,
     "metadata": {},
     "output_type": "execute_result"
    }
   ],
   "source": [
    "p = 6661\n",
    "n = 3\n",
    "f = poppy.field( p, n )\n",
    "f"
   ]
  },
  {
   "cell_type": "code",
   "execution_count": 11,
   "id": "69255591-e77c-4df9-8818-7e58128cce0f",
   "metadata": {},
   "outputs": [
    {
     "data": {
      "text/plain": [
       "array shape (3, 3).\n",
       "field order 3486784401."
      ]
     },
     "execution_count": 11,
     "metadata": {},
     "output_type": "execute_result"
    }
   ],
   "source": [
    "p = 3\n",
    "n = 20\n",
    "f = poppy.field( p, n )\n",
    "d = 3\n",
    "a = poppy.random( ( d, d ), f, poppy.SEED + 0 )\n",
    "b = poppy.random( ( d, d ), f, poppy.SEED + 1 )\n",
    "a"
   ]
  },
  {
   "cell_type": "code",
   "execution_count": 15,
   "id": "ca99a3d8-ad0c-41c9-b24c-27c4cb4bf5eb",
   "metadata": {},
   "outputs": [
    {
     "data": {
      "text/plain": [
       "Array([[0, 0, 0, 0, 0, 0, 0, 0, 0, 0, 0, 0, 0, 0, 0, 0, 0, 0, 0, 0],\n",
       "       [0, 0, 0, 0, 0, 0, 0, 0, 0, 0, 0, 0, 0, 0, 0, 0, 0, 0, 0, 0],\n",
       "       [0, 0, 0, 0, 0, 0, 0, 0, 0, 0, 0, 0, 0, 0, 0, 0, 0, 0, 0, 0],\n",
       "       [0, 0, 0, 0, 0, 0, 0, 0, 0, 0, 0, 0, 0, 0, 0, 0, 0, 0, 0, 0],\n",
       "       [0, 0, 0, 0, 0, 0, 0, 0, 0, 0, 0, 0, 0, 0, 0, 0, 0, 0, 0, 0],\n",
       "       [0, 0, 0, 0, 0, 0, 0, 0, 0, 0, 0, 0, 0, 0, 0, 0, 0, 0, 0, 0],\n",
       "       [0, 0, 0, 0, 0, 0, 0, 0, 0, 0, 0, 0, 0, 0, 0, 0, 0, 0, 0, 0],\n",
       "       [0, 0, 0, 0, 0, 0, 0, 0, 0, 0, 0, 0, 0, 0, 0, 0, 0, 0, 0, 0],\n",
       "       [0, 0, 0, 0, 0, 0, 0, 0, 0, 0, 0, 0, 0, 0, 0, 0, 0, 0, 0, 0],\n",
       "       [0, 0, 0, 0, 0, 0, 0, 0, 0, 0, 0, 0, 0, 0, 0, 0, 0, 0, 0, 0],\n",
       "       [0, 0, 0, 0, 0, 0, 0, 0, 0, 0, 0, 0, 0, 0, 0, 0, 0, 0, 0, 0],\n",
       "       [0, 0, 0, 0, 0, 0, 0, 0, 0, 0, 0, 0, 0, 0, 0, 0, 0, 0, 0, 0],\n",
       "       [0, 0, 0, 0, 0, 0, 0, 0, 0, 0, 0, 0, 0, 0, 0, 0, 0, 0, 0, 0],\n",
       "       [0, 0, 0, 0, 0, 0, 0, 0, 0, 0, 0, 0, 0, 0, 0, 0, 0, 0, 0, 0],\n",
       "       [0, 0, 0, 0, 0, 0, 0, 0, 0, 0, 0, 0, 0, 0, 0, 0, 0, 0, 0, 0],\n",
       "       [0, 0, 0, 0, 0, 0, 0, 0, 0, 0, 0, 0, 0, 0, 0, 0, 0, 0, 0, 0],\n",
       "       [0, 0, 0, 0, 0, 0, 0, 0, 0, 0, 0, 0, 0, 0, 0, 0, 0, 0, 0, 0],\n",
       "       [0, 0, 0, 0, 0, 0, 0, 0, 0, 0, 0, 0, 0, 0, 0, 0, 0, 0, 0, 0],\n",
       "       [0, 0, 0, 0, 0, 0, 0, 0, 0, 0, 0, 0, 0, 0, 0, 0, 0, 0, 0, 0],\n",
       "       [0, 0, 0, 0, 0, 0, 0, 0, 0, 0, 0, 0, 0, 0, 0, 0, 0, 0, 0, 0]],      dtype=int64)"
      ]
     },
     "execution_count": 15,
     "metadata": {},
     "output_type": "execute_result"
    }
   ],
   "source": [
    "def dot( v, F ):\n",
    "    return jnp.dot( v, F.X ) % F.p\n",
    "\n",
    "dot( jnp.arange( n ), f ) - poppy.v2m( jnp.arange( n ), f )"
   ]
  },
  {
   "cell_type": "code",
   "execution_count": 4,
   "id": "4b820e0e-7d76-4613-a74d-4a577ef32219",
   "metadata": {},
   "outputs": [],
   "source": [
    "ai = a.inv( )\n",
    "bi = b.inv( )"
   ]
  },
  {
   "cell_type": "code",
   "execution_count": 5,
   "id": "3136367d-2cbd-4e33-b0e6-cdaa9b23bfef",
   "metadata": {},
   "outputs": [
    {
     "name": "stdout",
     "output_type": "stream",
     "text": [
      "[ 1  5 11 10  9  2]\n"
     ]
    },
    {
     "data": {
      "text/plain": [
       "Array([[0, 0, 0, 0, 0, 0],\n",
       "       [0, 0, 0, 0, 0, 0],\n",
       "       [0, 0, 0, 0, 0, 0],\n",
       "       [0, 0, 0, 0, 0, 0],\n",
       "       [0, 0, 0, 0, 0, 0],\n",
       "       [0, 0, 0, 0, 0, 0]], dtype=int64)"
      ]
     },
     "execution_count": 5,
     "metadata": {},
     "output_type": "execute_result"
    }
   ],
   "source": [
    "print( a.lift[ 0, : 10 ] )\n",
    "( a - a @ ai @ a @ bi @ b ).lift"
   ]
  },
  {
   "cell_type": "code",
   "execution_count": 12,
   "id": "7170743c-fbef-454f-9437-dcebb8cd48b0",
   "metadata": {},
   "outputs": [
    {
     "data": {
      "text/plain": [
       "Array([[816]], dtype=int64)"
      ]
     },
     "execution_count": 12,
     "metadata": {},
     "output_type": "execute_result"
    }
   ],
   "source": [
    "p = 31\n",
    "n = 2\n",
    "d = 1\n",
    "f = poppy.field( p, n )\n",
    "a  = jax.random.randint( jax.random.PRNGKey( poppy.SEED + 1 ), ( d, d ), 0, f.q, dtype = jnp.int64 )\n",
    "ap = poppy.array( a, f )\n",
    "ap.trace( ).proj( )"
   ]
  },
  {
   "cell_type": "code",
   "execution_count": 13,
   "id": "02c19e94-fe1b-4c91-a402-902bd95f30d8",
   "metadata": {},
   "outputs": [
    {
     "data": {
      "text/plain": [
       "GF(816, order=31^2)"
      ]
     },
     "execution_count": 13,
     "metadata": {},
     "output_type": "execute_result"
    }
   ],
   "source": [
    "GF = galois.GF( p, n )\n",
    "np.trace( GF( np.array( a ) ) )"
   ]
  },
  {
   "cell_type": "code",
   "execution_count": 14,
   "id": "674095e4-d4a4-400a-a416-011932ce152e",
   "metadata": {},
   "outputs": [
    {
     "name": "stdout",
     "output_type": "stream",
     "text": [
      "42.3 µs ± 4.43 µs per loop (mean ± std. dev. of 7 runs, 10,000 loops each)\n"
     ]
    }
   ],
   "source": [
    "%timeit ap.trace( ).lift.block_until_ready( )"
   ]
  },
  {
   "cell_type": "code",
   "execution_count": 15,
   "id": "1d3b2834-18ef-4ed6-a6e9-681a0b76a47a",
   "metadata": {},
   "outputs": [
    {
     "name": "stdout",
     "output_type": "stream",
     "text": [
      "3.6 µs ± 227 ns per loop (mean ± std. dev. of 7 runs, 100,000 loops each)\n"
     ]
    }
   ],
   "source": [
    "an = np.array( a )\n",
    "%timeit np.trace( an )"
   ]
  },
  {
   "cell_type": "code",
   "execution_count": 16,
   "id": "8d62b2fa-c242-47ff-b0cb-bcc58285639f",
   "metadata": {},
   "outputs": [
    {
     "name": "stdout",
     "output_type": "stream",
     "text": [
      "77.4 µs ± 1.03 µs per loop (mean ± std. dev. of 7 runs, 10,000 loops each)\n"
     ]
    }
   ],
   "source": [
    "ag = GF( np.array( a ) )\n",
    "%timeit np.trace( ag )"
   ]
  },
  {
   "cell_type": "code",
   "execution_count": 7,
   "id": "5c0362e1-1568-4313-afe0-aa488f1f81f1",
   "metadata": {},
   "outputs": [
    {
     "data": {
      "text/plain": [
       "(10000, 8908, 169, 24137569)"
      ]
     },
     "execution_count": 7,
     "metadata": {},
     "output_type": "execute_result"
    }
   ],
   "source": [
    "N  = 10000\n",
    "d  = 2\n",
    "p  = 7\n",
    "p1 = 13\n",
    "p2 = 17\n",
    "n  = 6\n",
    "q  = p ** n\n",
    "f  = poppy.field( p,  n )\n",
    "F  = poppy.field( p1, d )\n",
    "FF = poppy.field( p2, n )\n",
    "a  = jax.random.randint( jax.random.PRNGKey( poppy.SEED + 0 ), ( N, F.n, F.n ), 0,       q, dtype = jnp.int64 )\n",
    "AA  = jax.random.randint( jax.random.PRNGKey( poppy.SEED + 1 ),  ( F.n * FF.n, F.n * FF.n ), 0, 2 ** 32, dtype = jnp.int64 )\n",
    "BB  = jax.random.randint( jax.random.PRNGKey( poppy.SEED + 2 ),  ( F.n * FF.n, F.n * FF.n ), 0, 2 ** 32, dtype = jnp.int64 )\n",
    "A  = jax.random.randint( jax.random.PRNGKey( poppy.SEED + 1 ),  ( FF.n, FF.n ), 0, 2 ** 32, dtype = jnp.int64 )\n",
    "B  = jax.random.randint( jax.random.PRNGKey( poppy.SEED + 2 ),  ( FF.n, FF.n ), 0, 2 ** 32, dtype = jnp.int64 )\n",
    "\n",
    "@jax.jit\n",
    "def poppyhash( a ):\n",
    "    b = poppy.proj( AA @ a + BB, F )\n",
    "    c = poppy.proj( A @ b + B, FF )\n",
    "    return c % ( 4 * N )\n",
    "\n",
    "liftbatch = jax.vmap( poppy.lift, in_axes = ( 0, None ) )\n",
    "hashbatch = jax.vmap( poppyhash )\n",
    "\n",
    "ap = liftbatch( a, f )\n",
    "h  = hashbatch( ap ).squeeze( )\n",
    "au = jnp.unique( a, axis = 0 )\n",
    "hu = jnp.unique( h )\n",
    "len( au ), len( hu ), F.q, FF.q"
   ]
  },
  {
   "cell_type": "code",
   "execution_count": null,
   "id": "74e06c00-c69e-4d64-a338-6dfd37edc0a8",
   "metadata": {},
   "outputs": [],
   "source": []
  }
 ],
 "metadata": {
  "kernelspec": {
   "display_name": "Python 3 (ipykernel)",
   "language": "python",
   "name": "python3"
  },
  "language_info": {
   "codemirror_mode": {
    "name": "ipython",
    "version": 3
   },
   "file_extension": ".py",
   "mimetype": "text/x-python",
   "name": "python",
   "nbconvert_exporter": "python",
   "pygments_lexer": "ipython3",
   "version": "3.12.3"
  }
 },
 "nbformat": 4,
 "nbformat_minor": 5
}
