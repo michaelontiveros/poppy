{
 "cells": [
  {
   "cell_type": "code",
   "execution_count": 1,
   "id": "8fedfe46-ef7a-4a35-ae98-bbb4913db77f",
   "metadata": {},
   "outputs": [],
   "source": [
    "import poppy\n",
    "import jax\n",
    "import jax.numpy as jnp\n",
    "import functools"
   ]
  },
  {
   "cell_type": "code",
   "execution_count": 3,
   "id": "2c70e883-5a7b-4e13-9767-08e684aefc21",
   "metadata": {},
   "outputs": [
    {
     "data": {
      "text/plain": [
       "(Array([[[1, 0, 0],\n",
       "         [0, 1, 0],\n",
       "         [0, 0, 1]],\n",
       " \n",
       "        [[0, 0, 2],\n",
       "         [1, 0, 9],\n",
       "         [0, 1, 0]],\n",
       " \n",
       "        [[0, 2, 0],\n",
       "         [0, 9, 2],\n",
       "         [1, 0, 9]]], dtype=int64),\n",
       " Array([ 0,  1,  6,  4,  3,  9,  2,  8,  7,  5, 10], dtype=int64))"
      ]
     },
     "execution_count": 3,
     "metadata": {},
     "output_type": "execute_result"
    }
   ],
   "source": [
    "p = 11\n",
    "n = 3\n",
    "f = poppy.field( p, n )\n",
    "f.X, f.INV"
   ]
  },
  {
   "cell_type": "code",
   "execution_count": 3,
   "id": "69255591-e77c-4df9-8818-7e58128cce0f",
   "metadata": {},
   "outputs": [],
   "source": [
    "d = 4\n",
    "a = poppy.random( ( d, d ), f, poppy.SEED + 0 )\n",
    "b = poppy.random( ( d, d ), f, poppy.SEED + 1 )"
   ]
  },
  {
   "cell_type": "code",
   "execution_count": 4,
   "id": "19a6e0b4-5e4c-4da5-9b46-c16c0528f2a0",
   "metadata": {},
   "outputs": [
    {
     "data": {
      "text/plain": [
       "((4, 4),\n",
       " (12, 12),\n",
       " Array([[2, 4, 1, 3, 0, 3, 3, 0, 0, 1, 3, 0],\n",
       "        [3, 1, 0, 4, 3, 3, 0, 3, 0, 0, 4, 3],\n",
       "        [2, 3, 1, 0, 4, 3, 0, 0, 3, 4, 0, 4],\n",
       "        [0, 0, 4, 0, 0, 3, 3, 3, 1, 3, 0, 3],\n",
       "        [2, 0, 4, 4, 0, 3, 3, 1, 4, 4, 3, 3],\n",
       "        [0, 2, 0, 0, 4, 0, 4, 3, 1, 0, 4, 3],\n",
       "        [4, 4, 3, 0, 1, 3, 4, 2, 4, 1, 3, 4],\n",
       "        [4, 3, 2, 4, 1, 4, 2, 1, 1, 2, 4, 2],\n",
       "        [2, 4, 3, 3, 4, 1, 1, 2, 1, 4, 2, 4],\n",
       "        [0, 1, 0, 4, 2, 0, 1, 0, 0, 1, 4, 0],\n",
       "        [0, 1, 1, 0, 1, 2, 0, 1, 0, 0, 0, 4],\n",
       "        [3, 0, 1, 1, 0, 1, 0, 0, 1, 2, 0, 0]], dtype=int64))"
      ]
     },
     "execution_count": 4,
     "metadata": {},
     "output_type": "execute_result"
    }
   ],
   "source": [
    "a.shape, a.lift.shape, a.lift"
   ]
  },
  {
   "cell_type": "code",
   "execution_count": 5,
   "id": "4b820e0e-7d76-4613-a74d-4a577ef32219",
   "metadata": {},
   "outputs": [],
   "source": [
    "ai = a.inv( )\n",
    "bi = b.inv( )"
   ]
  },
  {
   "cell_type": "code",
   "execution_count": 6,
   "id": "3136367d-2cbd-4e33-b0e6-cdaa9b23bfef",
   "metadata": {},
   "outputs": [
    {
     "name": "stdout",
     "output_type": "stream",
     "text": [
      "[2 4 1 3 0 3 3 0 0 1]\n"
     ]
    },
    {
     "data": {
      "text/plain": [
       "Array([[0, 0, 0, 0, 0, 0, 0, 0, 0, 0, 0, 0],\n",
       "       [0, 0, 0, 0, 0, 0, 0, 0, 0, 0, 0, 0],\n",
       "       [0, 0, 0, 0, 0, 0, 0, 0, 0, 0, 0, 0],\n",
       "       [0, 0, 0, 0, 0, 0, 0, 0, 0, 0, 0, 0],\n",
       "       [0, 0, 0, 0, 0, 0, 0, 0, 0, 0, 0, 0],\n",
       "       [0, 0, 0, 0, 0, 0, 0, 0, 0, 0, 0, 0],\n",
       "       [0, 0, 0, 0, 0, 0, 0, 0, 0, 0, 0, 0],\n",
       "       [0, 0, 0, 0, 0, 0, 0, 0, 0, 0, 0, 0],\n",
       "       [0, 0, 0, 0, 0, 0, 0, 0, 0, 0, 0, 0],\n",
       "       [0, 0, 0, 0, 0, 0, 0, 0, 0, 0, 0, 0],\n",
       "       [0, 0, 0, 0, 0, 0, 0, 0, 0, 0, 0, 0],\n",
       "       [0, 0, 0, 0, 0, 0, 0, 0, 0, 0, 0, 0]], dtype=int64)"
      ]
     },
     "execution_count": 6,
     "metadata": {},
     "output_type": "execute_result"
    }
   ],
   "source": [
    "print( a.lift[ 0, : 10 ] )\n",
    "( a - a @ ai @ a @ bi @ b ).lift"
   ]
  },
  {
   "cell_type": "code",
   "execution_count": 7,
   "id": "d105fbbc-8510-4f50-8339-b124984fe878",
   "metadata": {},
   "outputs": [],
   "source": [
    "@functools.partial( jax.jit, static_argnums = ( 1, 2 ) )\n",
    "def poppyhash( a, F, FF ):\n",
    "    b = poppy.proj( a, F )\n",
    "    c = poppy.proj( b, FF )\n",
    "    return c"
   ]
  },
  {
   "cell_type": "code",
   "execution_count": 8,
   "id": "4e08fed0-b688-4d9c-997d-46d84467685a",
   "metadata": {},
   "outputs": [],
   "source": [
    "liftbatch = jax.vmap( poppy.lift, in_axes = ( 0, None ) )\n",
    "hashbatch = jax.vmap( poppyhash,  in_axes = ( 0, None, None ) )"
   ]
  },
  {
   "cell_type": "code",
   "execution_count": 9,
   "id": "5c0362e1-1568-4313-afe0-aa488f1f81f1",
   "metadata": {},
   "outputs": [
    {
     "data": {
      "text/plain": [
       "(1000, 1000)"
      ]
     },
     "execution_count": 9,
     "metadata": {},
     "output_type": "execute_result"
    }
   ],
   "source": [
    "p  = 5\n",
    "n  = 6\n",
    "d  = 10\n",
    "N  = 1000\n",
    "a  = jax.random.randint( jax.random.PRNGKey( poppy.SEED ), ( N, d, d ), 0, p ** n, dtype = jnp.int64 )\n",
    "ap = liftbatch( a, poppy.field( p, n ) )\n",
    "F  = poppy.field( 31, n )\n",
    "FF = poppy.field( 7, d )\n",
    "h  = hashbatch( ap, F, FF ).squeeze( )\n",
    "au = jnp.unique( a, axis = 0 )\n",
    "hu = jnp.unique( h )\n",
    "len( au ), len( hu )"
   ]
  },
  {
   "cell_type": "code",
   "execution_count": null,
   "id": "7170743c-fbef-454f-9437-dcebb8cd48b0",
   "metadata": {},
   "outputs": [],
   "source": []
  }
 ],
 "metadata": {
  "kernelspec": {
   "display_name": "Python 3 (ipykernel)",
   "language": "python",
   "name": "python3"
  },
  "language_info": {
   "codemirror_mode": {
    "name": "ipython",
    "version": 3
   },
   "file_extension": ".py",
   "mimetype": "text/x-python",
   "name": "python",
   "nbconvert_exporter": "python",
   "pygments_lexer": "ipython3",
   "version": "3.12.3"
  }
 },
 "nbformat": 4,
 "nbformat_minor": 5
}
