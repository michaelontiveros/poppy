{
 "cells": [
  {
   "cell_type": "code",
   "execution_count": 1,
   "metadata": {},
   "outputs": [],
   "source": [
    "import poppy"
   ]
  },
  {
   "cell_type": "code",
   "execution_count": 2,
   "metadata": {},
   "outputs": [
    {
     "name": "stdout",
     "output_type": "stream",
     "text": [
      "a.lift()\n",
      "[[[[[1 5]\n",
      "    [6 6]]\n",
      "\n",
      "   [[4 3]\n",
      "    [5 0]]]\n",
      "\n",
      "\n",
      "  [[[6 4]\n",
      "    [2 3]]\n",
      "\n",
      "   [[6 0]\n",
      "    [0 6]]]]\n",
      "\n",
      "\n",
      "\n",
      " [[[[5 1]\n",
      "    [4 6]]\n",
      "\n",
      "   [[5 0]\n",
      "    [0 5]]]\n",
      "\n",
      "\n",
      "  [[[0 5]\n",
      "    [6 5]]\n",
      "\n",
      "   [[1 1]\n",
      "    [4 2]]]]]\n",
      "\n",
      "a.proj()\n",
      "[[[36 25]\n",
      "  [34  6]]\n",
      "\n",
      " [[12  5]\n",
      "  [35  8]]]\n",
      "\n",
      "a.t().proj()\n",
      "[[[36 34]\n",
      "  [25  6]]\n",
      "\n",
      " [[12 35]\n",
      "  [ 5  8]]]\n",
      "\n",
      "a.inv().proj()\n",
      "[[[16 46]\n",
      "  [ 2 42]]\n",
      "\n",
      " [[21 33]\n",
      "  [16 31]]]\n",
      "\n",
      "(a@a.inv()).proj()\n",
      "[[[1 0]\n",
      "  [0 1]]\n",
      "\n",
      " [[1 0]\n",
      "  [0 1]]]\n",
      "\n",
      "a.trace().proj()\n",
      "[[[35 20]]]\n",
      "\n",
      "a.det().proj()\n",
      "[[[39 23]]]\n",
      "\n",
      "a.rank()\n",
      "[2 2]\n",
      "\n",
      "a.ker().proj()\n",
      "[[[0 0]\n",
      "  [0 0]]\n",
      "\n",
      " [[0 0]\n",
      "  [0 0]]]\n",
      "\n",
      "a.im().proj()\n",
      "[[[36 25]\n",
      "  [34  6]]\n",
      "\n",
      " [[12  5]\n",
      "  [35  8]]]\n",
      "\n",
      "a.mod(a).proj()\n",
      "[[[0 0]\n",
      "  [0 0]]\n",
      "\n",
      " [[0 0]\n",
      "  [0 0]]]\n",
      "\n",
      "a.dirsum(a).proj()\n",
      "[[[36 25  0  0]\n",
      "  [34  6  0  0]\n",
      "  [ 0  0 36 25]\n",
      "  [ 0  0 34  6]]\n",
      "\n",
      " [[12  5  0  0]\n",
      "  [35  8  0  0]\n",
      "  [ 0  0 12  5]\n",
      "  [ 0  0 35  8]]]\n",
      "\n"
     ]
    }
   ],
   "source": [
    "p = 7\n",
    "n = 2\n",
    "f = poppy.field(p,n)\n",
    "a = poppy.random((2,2,2),f)\n",
    "\n",
    "print(f'a.lift()\\n{a.lift()}\\n')\n",
    "print(f'a.proj()\\n{a.proj()}\\n')\n",
    "print(f'a.t().proj()\\n{a.t().proj()}\\n')\n",
    "print(f'a.inv().proj()\\n{a.inv().proj()}\\n') \n",
    "print(f'(a@a.inv()).proj()\\n{(a@a.inv()).proj()}\\n')\n",
    "print(f'a.trace().proj()\\n{a.trace().proj()}\\n')\n",
    "print(f'a.det().proj()\\n{a.det().proj()}\\n')\n",
    "print(f'a.rank()\\n{a.rank()}\\n')\n",
    "print(f'a.ker().proj()\\n{a.ker().proj()}\\n')\n",
    "print(f'a.im().proj()\\n{a.im().proj()}\\n')\n",
    "print(f'a.mod(a).proj()\\n{a.mod(a).proj()}\\n')\n",
    "print(f'a.dirsum(a).proj()\\n{a.dirsum(a).proj()}\\n')"
   ]
  },
  {
   "cell_type": "code",
   "execution_count": 3,
   "metadata": {},
   "outputs": [
    {
     "name": "stdout",
     "output_type": "stream",
     "text": [
      "LPS EXPANDER GRAPH (23 17)\n",
      "[[65111 65383 60249 ... 61779 67831 67559]\n",
      " [32777 28901 81856 ... 41226 36466  8994]\n",
      " [28051 71146 13567 ... 75804 10524 38217]\n",
      " ...\n",
      " [82332  4200 72336 ... 50355 30278 81193]\n",
      " [41209  4557 36381 ... 54588 36976 58328]\n",
      " [55438  2279 79884 ... 79510 28493 50576]]\n",
      "[83521 83521 83521 ... 83521 83521 83521]\n"
     ]
    }
   ],
   "source": [
    "p = 23\n",
    "q = 17\n",
    "lps, i = poppy.lps(p,q)\n",
    "\n",
    "print(f'LPS EXPANDER GRAPH ({p} {q})')\n",
    "print(lps)\n",
    "print(i)"
   ]
  },
  {
   "cell_type": "code",
   "execution_count": 4,
   "metadata": {},
   "outputs": [
    {
     "name": "stdout",
     "output_type": "stream",
     "text": [
      "(Array([1], dtype=int64), Array([0], dtype=int64), Array([0], dtype=int64))\n"
     ]
    }
   ],
   "source": [
    "p = 7\n",
    "n = 3\n",
    "deg = 6\n",
    "f = poppy.field(p,n)\n",
    "polygon = poppy.polygon(deg,f)\n",
    "\n",
    "print(poppy.betti(polygon))"
   ]
  },
  {
   "cell_type": "code",
   "execution_count": 5,
   "metadata": {},
   "outputs": [
    {
     "name": "stdout",
     "output_type": "stream",
     "text": [
      "[0]\n",
      "(Array([1], dtype=int64), Array([2], dtype=int64), Array([1], dtype=int64))\n"
     ]
    }
   ],
   "source": [
    "p = 11\n",
    "n = 2\n",
    "deg = 4\n",
    "perm = [0,1,2,3,4,5,6,7]\n",
    "f = poppy.field(p,n)\n",
    "graph = poppy.graph(deg,perm,f)\n",
    "\n",
    "print(poppy.euler(graph))\n",
    "print(poppy.betti(graph))"
   ]
  }
 ],
 "metadata": {
  "kernelspec": {
   "display_name": "Python 3",
   "language": "python",
   "name": "python3"
  },
  "language_info": {
   "codemirror_mode": {
    "name": "ipython",
    "version": 3
   },
   "file_extension": ".py",
   "mimetype": "text/x-python",
   "name": "python",
   "nbconvert_exporter": "python",
   "pygments_lexer": "ipython3",
   "version": "3.12.3"
  }
 },
 "nbformat": 4,
 "nbformat_minor": 2
}
