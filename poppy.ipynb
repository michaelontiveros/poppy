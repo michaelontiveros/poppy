{
 "cells": [
  {
   "cell_type": "code",
   "execution_count": 13,
   "id": "8fedfe46-ef7a-4a35-ae98-bbb4913db77f",
   "metadata": {},
   "outputs": [],
   "source": [
    "import poppy\n",
    "import jax\n",
    "import jax.numpy as jnp\n",
    "import functools\n",
    "import galois"
   ]
  },
  {
   "cell_type": "code",
   "execution_count": 2,
   "id": "2c70e883-5a7b-4e13-9767-08e684aefc21",
   "metadata": {},
   "outputs": [
    {
     "data": {
      "text/plain": [
       "(Array([[[   1,    0,    0],\n",
       "         [   0,    1,    0],\n",
       "         [   0,    0,    1]],\n",
       " \n",
       "        [[   0,    0,    6],\n",
       "         [   1,    0, 6660],\n",
       "         [   0,    1,    0]],\n",
       " \n",
       "        [[   0,    6,    0],\n",
       "         [   0, 6660,    6],\n",
       "         [   1,    0, 6660]]], dtype=int64),\n",
       " Array([   0,    1, 3331, ..., 2220, 3330, 6660], dtype=int64))"
      ]
     },
     "execution_count": 2,
     "metadata": {},
     "output_type": "execute_result"
    }
   ],
   "source": [
    "p = 6661\n",
    "n = 3\n",
    "f = poppy.field( p, n )\n",
    "f.X, f.INV"
   ]
  },
  {
   "cell_type": "code",
   "execution_count": 3,
   "id": "69255591-e77c-4df9-8818-7e58128cce0f",
   "metadata": {},
   "outputs": [],
   "source": [
    "d = 4\n",
    "a = poppy.random( ( d, d ), f, poppy.SEED + 0 )\n",
    "b = poppy.random( ( d, d ), f, poppy.SEED + 1 )"
   ]
  },
  {
   "cell_type": "code",
   "execution_count": 4,
   "id": "19a6e0b4-5e4c-4da5-9b46-c16c0528f2a0",
   "metadata": {},
   "outputs": [
    {
     "data": {
      "text/plain": [
       "((4, 4),\n",
       " (12, 12),\n",
       " Array([[2616, 2367, 6596, 6247, 2613, 5145, 1013, 6059, 2241, 4296,  121,\n",
       "         4319],\n",
       "        [5540, 5552, 3488, 4188, 2481, 5086, 3704, 5554, 2355, 1830, 5386,\n",
       "         4952],\n",
       "        [3725, 5540, 5552, 3766, 4188, 2481, 2120, 3704, 5554, 5571, 1830,\n",
       "         5386],\n",
       "        [  58, 1188, 1218,  853, 4131, 5209,  226, 6044, 2986, 2265, 5039,\n",
       "         1977],\n",
       "        [ 203, 6521,  985, 6419, 3495, 4373, 2718, 1439, 3326, 3660,  315,\n",
       "         1379],\n",
       "        [ 198,  203, 6521, 4019, 6419, 3495, 5448, 2718, 1439, 1950, 3660,\n",
       "          315],\n",
       "        [3283, 4717, 5799, 5348, 5143, 5739, 3772, 1840, 4869, 3021, 3050,\n",
       "         3429],\n",
       "        [4297, 3607,  420, 4287, 5601,  856, 4142, 1245, 4359, 3902, 4733,\n",
       "         5809],\n",
       "        [6337, 4297, 3607, 6408, 4287, 5601, 2527, 4142, 1245, 4949, 3902,\n",
       "         4733],\n",
       "        [3615, 5997, 5278, 3627, 3415, 6485, 3376, 5794, 2866, 4079, 5540,\n",
       "         4475],\n",
       "        [3100, 5946, 2897, 2191, 4168, 1224, 2698,  190, 3096, 1856, 5376,\n",
       "         3684],\n",
       "        [4330, 3100, 5946, 6120, 2191, 4168, 3186, 2698,  190, 5364, 1856,\n",
       "         5376]], dtype=int64))"
      ]
     },
     "execution_count": 4,
     "metadata": {},
     "output_type": "execute_result"
    }
   ],
   "source": [
    "a.shape, a.lift.shape, a.lift"
   ]
  },
  {
   "cell_type": "code",
   "execution_count": 5,
   "id": "4b820e0e-7d76-4613-a74d-4a577ef32219",
   "metadata": {},
   "outputs": [],
   "source": [
    "ai = a.inv( )\n",
    "bi = b.inv( )"
   ]
  },
  {
   "cell_type": "code",
   "execution_count": 6,
   "id": "3136367d-2cbd-4e33-b0e6-cdaa9b23bfef",
   "metadata": {},
   "outputs": [
    {
     "name": "stdout",
     "output_type": "stream",
     "text": [
      "[2616 2367 6596 6247 2613 5145 1013 6059 2241 4296]\n"
     ]
    },
    {
     "data": {
      "text/plain": [
       "Array([[0, 0, 0, 0, 0, 0, 0, 0, 0, 0, 0, 0],\n",
       "       [0, 0, 0, 0, 0, 0, 0, 0, 0, 0, 0, 0],\n",
       "       [0, 0, 0, 0, 0, 0, 0, 0, 0, 0, 0, 0],\n",
       "       [0, 0, 0, 0, 0, 0, 0, 0, 0, 0, 0, 0],\n",
       "       [0, 0, 0, 0, 0, 0, 0, 0, 0, 0, 0, 0],\n",
       "       [0, 0, 0, 0, 0, 0, 0, 0, 0, 0, 0, 0],\n",
       "       [0, 0, 0, 0, 0, 0, 0, 0, 0, 0, 0, 0],\n",
       "       [0, 0, 0, 0, 0, 0, 0, 0, 0, 0, 0, 0],\n",
       "       [0, 0, 0, 0, 0, 0, 0, 0, 0, 0, 0, 0],\n",
       "       [0, 0, 0, 0, 0, 0, 0, 0, 0, 0, 0, 0],\n",
       "       [0, 0, 0, 0, 0, 0, 0, 0, 0, 0, 0, 0],\n",
       "       [0, 0, 0, 0, 0, 0, 0, 0, 0, 0, 0, 0]], dtype=int64)"
      ]
     },
     "execution_count": 6,
     "metadata": {},
     "output_type": "execute_result"
    }
   ],
   "source": [
    "print( a.lift[ 0, : 10 ] )\n",
    "( a - a @ ai @ a @ bi @ b ).lift"
   ]
  },
  {
   "cell_type": "code",
   "execution_count": 7,
   "id": "5c0362e1-1568-4313-afe0-aa488f1f81f1",
   "metadata": {},
   "outputs": [
    {
     "data": {
      "text/plain": [
       "(10000, 17, 169, 24137569)"
      ]
     },
     "execution_count": 7,
     "metadata": {},
     "output_type": "execute_result"
    }
   ],
   "source": [
    "N  = 10000\n",
    "d  = 2\n",
    "p  = 7\n",
    "p1 = 13\n",
    "p2 = 17\n",
    "n  = 6\n",
    "q  = p ** n\n",
    "f  = poppy.field( p,  n )\n",
    "F  = poppy.field( p1, d )\n",
    "FF = poppy.field( p2, n )\n",
    "a  = jax.random.randint( jax.random.PRNGKey( poppy.SEED + 0 ), ( N, F.n, F.n ), 0,       q, dtype = jnp.int64 )\n",
    "AA  = jax.random.randint( jax.random.PRNGKey( poppy.SEED + 1 ),  ( F.n * FF.n, F.n * FF.n ), 0, 2 ** 32, dtype = jnp.int64 )\n",
    "BB  = jax.random.randint( jax.random.PRNGKey( poppy.SEED + 2 ),  ( F.n * FF.n, F.n * FF.n ), 0, 2 ** 32, dtype = jnp.int64 )\n",
    "A  = jax.random.randint( jax.random.PRNGKey( poppy.SEED + 1 ),  ( FF.n, FF.n ), 0, 2 ** 32, dtype = jnp.int64 )\n",
    "B  = jax.random.randint( jax.random.PRNGKey( poppy.SEED + 2 ),  ( FF.n, FF.n ), 0, 2 ** 32, dtype = jnp.int64 )\n",
    "\n",
    "@jax.jit\n",
    "def poppyhash( a ):\n",
    "    b = poppy.proj( AA @ a + BB, F )\n",
    "    c = poppy.proj( A @ b + B, FF )\n",
    "    return c % ( 4 * N )\n",
    "\n",
    "liftbatch = jax.vmap( poppy.lift, in_axes = ( 0, None ) )\n",
    "hashbatch = jax.vmap( poppyhash )\n",
    "\n",
    "ap = liftbatch( a, f )\n",
    "h  = hashbatch( ap ).squeeze( )\n",
    "au = jnp.unique( a, axis = 0 )\n",
    "hu = jnp.unique( h )\n",
    "len( au ), len( hu ), F.q, FF.q"
   ]
  },
  {
   "cell_type": "code",
   "execution_count": 12,
   "id": "7170743c-fbef-454f-9437-dcebb8cd48b0",
   "metadata": {},
   "outputs": [
    {
     "data": {
      "text/plain": [
       "(Array([[4, 1],\n",
       "        [5, 5]], dtype=int64),\n",
       " Array([[4, 0, 0],\n",
       "        [0, 4, 0],\n",
       "        [0, 0, 4]], dtype=int64),\n",
       " Array([[5, 0, 0],\n",
       "        [0, 5, 0],\n",
       "        [0, 0, 5]], dtype=int64),\n",
       " Array(9, dtype=int64))"
      ]
     },
     "execution_count": 12,
     "metadata": {},
     "output_type": "execute_result"
    }
   ],
   "source": [
    "f = poppy.field( 7, 3 )\n",
    "a  = jax.random.randint( jax.random.PRNGKey( poppy.SEED + 0 ), ( 2, 2 ), 0, f.p, dtype = jnp.int64 )\n",
    "a1 = poppy.array( a[ 0, 0 ], f )\n",
    "a2 = poppy.array( a[ 0, 1 ], f )\n",
    "a3 = poppy.array( a[ 1, 0 ], f )\n",
    "a4 = poppy.array( a[ 1, 1 ], f )\n",
    "a, a1.lift, a4.lift, (a[ 0, 0 ] + a[ 1, 1])%f.q"
   ]
  },
  {
   "cell_type": "code",
   "execution_count": 14,
   "id": "02c19e94-fe1b-4c91-a402-902bd95f30d8",
   "metadata": {},
   "outputs": [
    {
     "data": {
      "text/plain": [
       "GF(2, order=7^3)"
      ]
     },
     "execution_count": 14,
     "metadata": {},
     "output_type": "execute_result"
    }
   ],
   "source": [
    "GF = galois.GF( 7 ** 3 )\n",
    "GF(4)+GF(5)"
   ]
  },
  {
   "cell_type": "code",
   "execution_count": null,
   "id": "4caa3d8d-f3e3-4d22-886f-a03ae6a745a1",
   "metadata": {},
   "outputs": [],
   "source": []
  }
 ],
 "metadata": {
  "kernelspec": {
   "display_name": "Python 3 (ipykernel)",
   "language": "python",
   "name": "python3"
  },
  "language_info": {
   "codemirror_mode": {
    "name": "ipython",
    "version": 3
   },
   "file_extension": ".py",
   "mimetype": "text/x-python",
   "name": "python",
   "nbconvert_exporter": "python",
   "pygments_lexer": "ipython3",
   "version": "3.12.3"
  }
 },
 "nbformat": 4,
 "nbformat_minor": 5
}
